{
 "cells": [
  {
   "cell_type": "markdown",
   "metadata": {},
   "source": [
    "# ファイル  \n",
    "この回ではPythonでファイルが扱われるようになります。  \n",
    "プログラムの計算結果などをファイルに出力したり、ファイルからデータを読み込む処理というのはよく行われる処理の一つです。ここではファイルの読み書きを紹介します。  \n",
    "\n",
    "## ファイルへの書き込み  \n",
    "まず実際に書き込むデータを用意します。ここでは0から9までの数字とその二乗の値をカンマ区切りで一行まいに書くことを考えます。  "
   ]
  },
  {
   "cell_type": "code",
   "execution_count": 1,
   "metadata": {},
   "outputs": [],
   "source": [
    "numbers = [i for i in range(10)]"
   ]
  },
  {
   "cell_type": "markdown",
   "metadata": {},
   "source": [
    "ファイルへの書き込みにはopen()関数を利用します。  \n",
    "open(\"ファイル名\",\"w\"）で書き込み可能なファイルを**新規作成**します。すでにファイルがある場合は削除され新しいファイルができます。wをaにすることで新規作成ではなくファイルの後ろに追記するようにできます。  "
   ]
  },
  {
   "cell_type": "code",
   "execution_count": 2,
   "metadata": {},
   "outputs": [],
   "source": [
    "f = open(\"numbers.txt\",\"w\")"
   ]
  },
  {
   "cell_type": "markdown",
   "metadata": {},
   "source": [
    "ファイルの書き込みにはwrite(write_str)メソッドを利用します。書き込みたい文字列write_strをファイルに書き込むメソッドです。Pythonでは改行などは自動では入らないため明示的に改行を入れてあげる必要があります。  "
   ]
  },
  {
   "cell_type": "code",
   "execution_count": 4,
   "metadata": {},
   "outputs": [],
   "source": [
    "for number in numbers: \n",
    "    f.write(f\"{number},{number**2}\\n\")"
   ]
  },
  {
   "cell_type": "markdown",
   "metadata": {},
   "source": [
    "またファイルへの書き込みが全て終わった後にはclose()メソッドを呼び出しファイルを閉じましょう。  \n",
    "ファイルが閉じられているかについてはclosedで確認することができます。  "
   ]
  },
  {
   "cell_type": "code",
   "execution_count": 6,
   "metadata": {},
   "outputs": [
    {
     "name": "stdout",
     "output_type": "stream",
     "text": [
      "False\n",
      "True\n"
     ]
    }
   ],
   "source": [
    "print(f.closed)\n",
    "f.close()\n",
    "print(f.closed)"
   ]
  },
  {
   "cell_type": "markdown",
   "metadata": {},
   "source": [
    "close済みのファイルに対して書き込もうとしてもエラーが発生し書き込むことができません。ファイルへの操作が不要になった場合はcolseをしていきましょう。  "
   ]
  },
  {
   "cell_type": "code",
   "execution_count": 7,
   "metadata": {},
   "outputs": [
    {
     "ename": "ValueError",
     "evalue": "I/O operation on closed file.",
     "output_type": "error",
     "traceback": [
      "\u001b[0;31m---------------------------------------------------------------------------\u001b[0m",
      "\u001b[0;31mValueError\u001b[0m                                Traceback (most recent call last)",
      "\u001b[0;32m<ipython-input-7-4af922d3fca6>\u001b[0m in \u001b[0;36m<module>\u001b[0;34m\u001b[0m\n\u001b[0;32m----> 1\u001b[0;31m \u001b[0mf\u001b[0m\u001b[0;34m.\u001b[0m\u001b[0mwrite\u001b[0m\u001b[0;34m(\u001b[0m\u001b[0;34m\"err\"\u001b[0m\u001b[0;34m)\u001b[0m\u001b[0;34m\u001b[0m\u001b[0;34m\u001b[0m\u001b[0m\n\u001b[0m",
      "\u001b[0;31mValueError\u001b[0m: I/O operation on closed file."
     ]
    }
   ],
   "source": [
    "f.write(\"err\")"
   ]
  },
  {
   "cell_type": "markdown",
   "metadata": {},
   "source": [
    "実際にはclose()の呼び出しは面倒でよく忘れてしまします。そこで自動でcloseしてくれるようにPython\n",
    "ではwith文を使ったファイルのopenが推奨されます。  "
   ]
  },
  {
   "cell_type": "code",
   "execution_count": null,
   "metadata": {},
   "outputs": [],
   "source": []
  }
 ],
 "metadata": {
  "kernelspec": {
   "display_name": "Python 3",
   "language": "python",
   "name": "python3"
  },
  "language_info": {
   "codemirror_mode": {
    "name": "ipython",
    "version": 3
   },
   "file_extension": ".py",
   "mimetype": "text/x-python",
   "name": "python",
   "nbconvert_exporter": "python",
   "pygments_lexer": "ipython3",
   "version": "3.8.4"
  }
 },
 "nbformat": 4,
 "nbformat_minor": 4
}
