{
 "cells": [
  {
   "cell_type": "markdown",
   "metadata": {},
   "source": [
    "# 関数  \n",
    "他のプログラミング言語と同様に、Pythonも関数を定義することができます。  \n",
    "関数の定義はdefというキーワードから初めて、\n",
    "```python\n",
    "def function(arg1,...,argN):\n",
    "    #ここに関数の内容をかく  \n",
    "```\n",
    "という構文をとります。defの後に続くfunctionには関数の名前を書き、丸括弧のarg1,...,argNが引数になります。引数は0この時もあります。  \n",
    "この次の行からインデントして書いたコードが、この関数の本体になります。  \n",
    "**関数が返却値を返す時はreturn文を利用します。**return文が実行されると、直ちに関数の実行は終了します。"
   ]
  },
  {
   "cell_type": "code",
   "execution_count": null,
   "metadata": {},
   "outputs": [],
   "source": []
  }
 ],
 "metadata": {
  "kernelspec": {
   "display_name": "Python 3",
   "language": "python",
   "name": "python3"
  },
  "language_info": {
   "codemirror_mode": {
    "name": "ipython",
    "version": 3
   },
   "file_extension": ".py",
   "mimetype": "text/x-python",
   "name": "python",
   "nbconvert_exporter": "python",
   "pygments_lexer": "ipython3",
   "version": "3.8.4"
  }
 },
 "nbformat": 4,
 "nbformat_minor": 4
}
