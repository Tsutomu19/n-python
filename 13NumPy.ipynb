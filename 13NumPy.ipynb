{
 "cells": [
  {
   "cell_type": "markdown",
   "metadata": {},
   "source": [
    "# NumPy  \n",
    "NumPyはPythonで高速に数値計算を行う機能を提供するパッケージです。Pythoが科学計算分野で広く使われることに貢献したパッケージの一つといっても過言はないでしょう。  \n",
    "\n",
    "## インストール  \n",
    "macOSなら\n",
    "```python\n",
    "pip3 install numpy\n",
    "```\n",
    "\n",
    "## 基本的な使い方\n",
    "標準モジュールと同様にNumPyを使うためにまずimportします。\n"
   ]
  },
  {
   "cell_type": "code",
   "execution_count": 109,
   "metadata": {},
   "outputs": [],
   "source": [
    "import numpy"
   ]
  },
  {
   "cell_type": "markdown",
   "metadata": {},
   "source": [
    "## 配列を作る  \n",
    "Pythonにはすでにみてきたようにリストがありますが、NumPyではリストに似た\"配列\"と呼ばれるデータ構造を利用していきます。  \n",
    "ここではPythonのリストからnumpy.array（配列)を作ります。  \n",
    "一次元配列  "
   ]
  },
  {
   "cell_type": "code",
   "execution_count": 45,
   "metadata": {},
   "outputs": [
    {
     "name": "stdout",
     "output_type": "stream",
     "text": [
      "[0 1 2 3]\n"
     ]
    }
   ],
   "source": [
    "a = numpy.array([0,1,2,3])\n",
    "print(a)"
   ]
  },
  {
   "cell_type": "markdown",
   "metadata": {},
   "source": [
    "二次元配列  "
   ]
  },
  {
   "cell_type": "code",
   "execution_count": 46,
   "metadata": {},
   "outputs": [
    {
     "name": "stdout",
     "output_type": "stream",
     "text": [
      "[[0 1 2]\n",
      " [3 4 5]]\n"
     ]
    }
   ],
   "source": [
    "b = numpy.array([[0,1,2],[3,4,5]])\n",
    "print(b)"
   ]
  },
  {
   "cell_type": "markdown",
   "metadata": {},
   "source": [
    "numpy.array([[0,1],[2,3,4]])といったサイズの異なる二次元配列を与えることもできますが、合う買いません。  \n",
    "\n",
    "配列の次元は**shape属性**を見るとわかります。"
   ]
  },
  {
   "cell_type": "code",
   "execution_count": 47,
   "metadata": {},
   "outputs": [
    {
     "name": "stdout",
     "output_type": "stream",
     "text": [
      ".shape (4,)\n",
      "b.shape (2, 3)\n"
     ]
    }
   ],
   "source": [
    "print(\".shape\",a.shape)\n",
    "print(\"b.shape\",b.shape)"
   ]
  },
  {
   "cell_type": "markdown",
   "metadata": {},
   "source": [
    "要素数は**size属性**を見るとわかります。  "
   ]
  },
  {
   "cell_type": "code",
   "execution_count": 48,
   "metadata": {},
   "outputs": [
    {
     "name": "stdout",
     "output_type": "stream",
     "text": [
      "a.shape 4\n",
      "b.shape 6\n"
     ]
    }
   ],
   "source": [
    "print(\"a.shape\",a.size)\n",
    "print(\"b.shape\",b.size)"
   ]
  },
  {
   "cell_type": "markdown",
   "metadata": {},
   "source": [
    "# 配列を作る関数  \n",
    "numpy.arange()関数はリストの節で登場したrange()関数に似ています。  "
   ]
  },
  {
   "cell_type": "code",
   "execution_count": 49,
   "metadata": {},
   "outputs": [
    {
     "name": "stdout",
     "output_type": "stream",
     "text": [
      "[0 1 2 3 4]\n"
     ]
    }
   ],
   "source": [
    "#0から4までの整数をもつ配列を作る  \n",
    "print(numpy.arange(5))"
   ]
  },
  {
   "cell_type": "code",
   "execution_count": 50,
   "metadata": {},
   "outputs": [
    {
     "name": "stdout",
     "output_type": "stream",
     "text": [
      "[1 3 5 7 9]\n"
     ]
    }
   ],
   "source": [
    "#1から9までの整数のうち奇数の配列を作る \n",
    "#(1から9まで2ステップずつ整数を取り出す)\n",
    "print(numpy.arange(1,10,2))"
   ]
  },
  {
   "cell_type": "markdown",
   "metadata": {},
   "source": [
    "reshape()メソッドをつかってから形を変更できます。また変形後の要素数は変形前の要素数と同じになる形でなければなりません。"
   ]
  },
  {
   "cell_type": "code",
   "execution_count": 51,
   "metadata": {},
   "outputs": [
    {
     "name": "stdout",
     "output_type": "stream",
     "text": [
      "6 [0 1 2 3 4 5]\n",
      "2×3 [[0 1 2]\n",
      " [3 4 5]]\n"
     ]
    }
   ],
   "source": [
    "print(\"6\",numpy.arange(6))\n",
    "print(\"2×3\",numpy.arange(6).reshape(2,3))"
   ]
  },
  {
   "cell_type": "code",
   "execution_count": 52,
   "metadata": {},
   "outputs": [
    {
     "ename": "ValueError",
     "evalue": "cannot reshape array of size 6 into shape (3,3)",
     "output_type": "error",
     "traceback": [
      "\u001b[0;31m---------------------------------------------------------------------------\u001b[0m",
      "\u001b[0;31mValueError\u001b[0m                                Traceback (most recent call last)",
      "\u001b[0;32m<ipython-input-52-6f1fbf8353a8>\u001b[0m in \u001b[0;36m<module>\u001b[0;34m\u001b[0m\n\u001b[1;32m      1\u001b[0m \u001b[0;31m#　要素数6を要素3×3=9の形に変形はできない。\u001b[0m\u001b[0;34m\u001b[0m\u001b[0;34m\u001b[0m\u001b[0;34m\u001b[0m\u001b[0m\n\u001b[0;32m----> 2\u001b[0;31m \u001b[0mnumpy\u001b[0m\u001b[0;34m.\u001b[0m\u001b[0marange\u001b[0m\u001b[0;34m(\u001b[0m\u001b[0;36m6\u001b[0m\u001b[0;34m)\u001b[0m\u001b[0;34m.\u001b[0m\u001b[0mreshape\u001b[0m\u001b[0;34m(\u001b[0m\u001b[0;36m3\u001b[0m\u001b[0;34m,\u001b[0m\u001b[0;36m3\u001b[0m\u001b[0;34m)\u001b[0m\u001b[0;34m\u001b[0m\u001b[0;34m\u001b[0m\u001b[0m\n\u001b[0m",
      "\u001b[0;31mValueError\u001b[0m: cannot reshape array of size 6 into shape (3,3)"
     ]
    }
   ],
   "source": [
    "#　要素数6を要素3×3=9の形に変形はできない。\n",
    "numpy.arange(6).reshape(3,3)"
   ]
  },
  {
   "cell_type": "markdown",
   "metadata": {},
   "source": [
    "numpy.linspace()関数は指定した区間内から等間隔で値を取得します。"
   ]
  },
  {
   "cell_type": "code",
   "execution_count": 53,
   "metadata": {},
   "outputs": [
    {
     "name": "stdout",
     "output_type": "stream",
     "text": [
      "[2.  2.2 2.4 2.6 2.8]\n"
     ]
    }
   ],
   "source": [
    "print(numpy.linspace(2.0,3.0,num=5,endpoint=False))"
   ]
  },
  {
   "cell_type": "markdown",
   "metadata": {},
   "source": [
    "間隔も同時に取得した場合はrestep=Trueを指定します。"
   ]
  },
  {
   "cell_type": "code",
   "execution_count": 54,
   "metadata": {},
   "outputs": [
    {
     "name": "stdout",
     "output_type": "stream",
     "text": [
      "[2.   2.25 2.5  2.75 3.  ]\n",
      "0.25\n"
     ]
    }
   ],
   "source": [
    "a, step = numpy.linspace(2.0, 3.0, num=5,retstep = True)\n",
    "print(a)\n",
    "print(step)"
   ]
  },
  {
   "cell_type": "markdown",
   "metadata": {},
   "source": [
    "numpy.ones()関数は配列の要素を1で埋めた配列を生成します。"
   ]
  },
  {
   "cell_type": "code",
   "execution_count": 55,
   "metadata": {},
   "outputs": [
    {
     "name": "stdout",
     "output_type": "stream",
     "text": [
      "[1. 1. 1. 1. 1.]\n"
     ]
    }
   ],
   "source": [
    "#5つの1をもつ一次元配列\n",
    "print(numpy.ones(5))"
   ]
  },
  {
   "cell_type": "code",
   "execution_count": 56,
   "metadata": {},
   "outputs": [
    {
     "name": "stdout",
     "output_type": "stream",
     "text": [
      "[[1. 1.]\n",
      " [1. 1.]\n",
      " [1. 1.]]\n"
     ]
    }
   ],
   "source": [
    "print(numpy.ones((3,2)))"
   ]
  },
  {
   "cell_type": "code",
   "execution_count": 57,
   "metadata": {},
   "outputs": [
    {
     "name": "stdout",
     "output_type": "stream",
     "text": [
      "[0. 0. 0. 0. 0.]\n"
     ]
    }
   ],
   "source": [
    "print(numpy.zeros(5))"
   ]
  },
  {
   "cell_type": "code",
   "execution_count": 58,
   "metadata": {},
   "outputs": [
    {
     "name": "stdout",
     "output_type": "stream",
     "text": [
      "[[0. 0.]\n",
      " [0. 0.]\n",
      " [0. 0.]]\n"
     ]
    }
   ],
   "source": [
    "print(numpy.zeros((3,2)))"
   ]
  },
  {
   "cell_type": "code",
   "execution_count": 59,
   "metadata": {},
   "outputs": [
    {
     "name": "stdout",
     "output_type": "stream",
     "text": [
      "[[1. 0.]\n",
      " [0. 1.]]\n"
     ]
    }
   ],
   "source": [
    "print(numpy.eye(2))"
   ]
  },
  {
   "cell_type": "code",
   "execution_count": 60,
   "metadata": {},
   "outputs": [
    {
     "name": "stdout",
     "output_type": "stream",
     "text": [
      "[[2 0 0]\n",
      " [0 4 0]\n",
      " [0 0 6]]\n"
     ]
    }
   ],
   "source": [
    "a = numpy.array([2,4,6])\n",
    "print(numpy.diag(a))"
   ]
  },
  {
   "cell_type": "code",
   "execution_count": 61,
   "metadata": {},
   "outputs": [
    {
     "name": "stdout",
     "output_type": "stream",
     "text": [
      "入力\n",
      " [[2 4]\n",
      " [6 8]]\n",
      "対角要素を取り出す\n",
      " [2 8]\n"
     ]
    }
   ],
   "source": [
    "a = numpy.array([[2,4],[6,8]])\n",
    "print(\"入力\\n\",a)\n",
    "print(\"対角要素を取り出す\\n\",numpy.diag(a))"
   ]
  },
  {
   "cell_type": "markdown",
   "metadata": {},
   "source": [
    "# データ型  \n",
    "Pythonにint,float,strなどがあったように、NumPyにも基本的なデータ型があります。  \n",
    "NumPyのデータ型を確認したり、指定する時にはdtype属性を通して操作を行います。  \n",
    "\n",
    "よくでてくるデータ型にint64型、int32、float64、float32、boolがありますが、ここではそういうデータタイプがあるんだと言うことを頭の片隅に入れておく。もしdtype=objectとなっている場合は要素数が間違っているなど与えられたデータが間違っている可能性があります。  "
   ]
  },
  {
   "cell_type": "code",
   "execution_count": 62,
   "metadata": {},
   "outputs": [
    {
     "name": "stdout",
     "output_type": "stream",
     "text": [
      "array= [0 1 2 3 4]\n",
      "dtype= int64\n"
     ]
    }
   ],
   "source": [
    "# dtypeの確認\n",
    "a = numpy.arange(5)\n",
    "print(\"array=\",a)\n",
    "print(\"dtype=\",a.dtype)"
   ]
  },
  {
   "cell_type": "code",
   "execution_count": 63,
   "metadata": {},
   "outputs": [
    {
     "name": "stdout",
     "output_type": "stream",
     "text": [
      "array= [0. 1. 2. 3. 4.]\n",
      "dtype= float64\n"
     ]
    }
   ],
   "source": [
    "# dtypeを設定して配列を作る\n",
    "a = numpy.arange(5,dtype=float)\n",
    "print(\"array=\",a)\n",
    "print(\"dtype=\",a.dtype)"
   ]
  },
  {
   "cell_type": "code",
   "execution_count": 64,
   "metadata": {},
   "outputs": [
    {
     "name": "stdout",
     "output_type": "stream",
     "text": [
      "array= [list([1]) list([2, 3])]\n",
      "dtype= object\n"
     ]
    },
    {
     "name": "stderr",
     "output_type": "stream",
     "text": [
      "<ipython-input-64-55e5240cd3e6>:1: VisibleDeprecationWarning: Creating an ndarray from ragged nested sequences (which is a list-or-tuple of lists-or-tuples-or ndarrays with different lengths or shapes) is deprecated. If you meant to do this, you must specify 'dtype=object' when creating the ndarray\n",
      "  ao = numpy.array([[1],[2,3]])\n"
     ]
    }
   ],
   "source": [
    "ao = numpy.array([[1],[2,3]])\n",
    "print(\"array=\",ao)\n",
    "print(\"dtype=\",ao.dtype)"
   ]
  },
  {
   "cell_type": "markdown",
   "metadata": {},
   "source": [
    "# 配列を用いた演算　　\n",
    "ここまではNumPyの配列の作り方や要素の取り出し方をみてきました。リストやタプルの時はここで終わりでしたが、Numpy配列は先があります。  \n",
    "Numpy配列に定義されているいくつかの演算をここではみていきます。\n",
    "## 基本的な演算\n",
    "配列と数値（int、float)の演算では配列の各要素に演算が適応されます。  "
   ]
  },
  {
   "cell_type": "code",
   "execution_count": 65,
   "metadata": {},
   "outputs": [
    {
     "name": "stdout",
     "output_type": "stream",
     "text": [
      "[0 1 2 3]\n"
     ]
    }
   ],
   "source": [
    "a = numpy.array([0,1,2,3])\n",
    "print(a)"
   ]
  },
  {
   "cell_type": "code",
   "execution_count": 66,
   "metadata": {},
   "outputs": [
    {
     "name": "stdout",
     "output_type": "stream",
     "text": [
      "[1 2 3 4]\n"
     ]
    }
   ],
   "source": [
    "#aの要素に1をたす\n",
    "print(a+1)"
   ]
  },
  {
   "cell_type": "code",
   "execution_count": 67,
   "metadata": {},
   "outputs": [
    {
     "name": "stdout",
     "output_type": "stream",
     "text": [
      "[1 2 3 4]\n"
     ]
    }
   ],
   "source": [
    "# aの各要素に1をたす\n",
    "print(a+1)"
   ]
  },
  {
   "cell_type": "code",
   "execution_count": 68,
   "metadata": {},
   "outputs": [
    {
     "name": "stdout",
     "output_type": "stream",
     "text": [
      "[0 2 4 6]\n"
     ]
    }
   ],
   "source": [
    "# aの要素を2倍する\n",
    "print(a*2)"
   ]
  },
  {
   "cell_type": "markdown",
   "metadata": {},
   "source": [
    "配列同士の演算の時は配列のshapeによって使用方法が異なってくるため、慣れるのに少々時間が必要となってくるかもしれません。  \n",
    "まず、二つの配列のshapeが\n",
    "同じ時は各要素の演算が行われます。"
   ]
  },
  {
   "cell_type": "code",
   "execution_count": 71,
   "metadata": {},
   "outputs": [
    {
     "name": "stdout",
     "output_type": "stream",
     "text": [
      "a= [1 2 3]\n",
      "b= [4 5 6]\n"
     ]
    }
   ],
   "source": [
    "a = numpy.array([1,2,3])\n",
    "print(\"a=\",a)\n",
    "\n",
    "b = numpy.array([4,5,6])\n",
    "print(\"b=\",b)"
   ]
  },
  {
   "cell_type": "code",
   "execution_count": 72,
   "metadata": {},
   "outputs": [
    {
     "name": "stdout",
     "output_type": "stream",
     "text": [
      "[5 7 9]\n"
     ]
    }
   ],
   "source": [
    "#配列同士の和\n",
    "print(a+b)"
   ]
  },
  {
   "cell_type": "code",
   "execution_count": 73,
   "metadata": {},
   "outputs": [
    {
     "name": "stdout",
     "output_type": "stream",
     "text": [
      "[ 4 10 18]\n"
     ]
    }
   ],
   "source": [
    "#配列同士の積\n",
    "print(a*b)"
   ]
  },
  {
   "cell_type": "markdown",
   "metadata": {},
   "source": [
    "## 比較  \n",
    "配列同士の比較ができます。"
   ]
  },
  {
   "cell_type": "code",
   "execution_count": 75,
   "metadata": {},
   "outputs": [
    {
     "name": "stdout",
     "output_type": "stream",
     "text": [
      "[1 2 3 4]\n",
      "[1 2 2 1]\n"
     ]
    }
   ],
   "source": [
    "a = numpy.array([1,2,3,4])\n",
    "print(a)\n",
    "b = numpy.array([1,2,2,1])\n",
    "print(b)"
   ]
  },
  {
   "cell_type": "code",
   "execution_count": 76,
   "metadata": {},
   "outputs": [
    {
     "name": "stdout",
     "output_type": "stream",
     "text": [
      "[ True  True False False]\n"
     ]
    }
   ],
   "source": [
    "#aとbの各要素が等しいか調べる\n",
    "#Trueの時等しい\n",
    "print(a == b)"
   ]
  },
  {
   "cell_type": "markdown",
   "metadata": {},
   "source": [
    "==には注意が必要です。1==1がtrueになるような共同を期待していても実際には上の例にもあるように配列を要素ごとの比較した結果が帰ってきます。配列の中身がすべて一緒の場合はTrueそれ以外の場合はFalseを返すようにするためにはnumpy.array_equal()関数を使います。"
   ]
  },
  {
   "cell_type": "code",
   "execution_count": 77,
   "metadata": {},
   "outputs": [
    {
     "name": "stdout",
     "output_type": "stream",
     "text": [
      "False\n"
     ]
    }
   ],
   "source": [
    "#配列aとbが等しいか調べる(すべての要素が同じかどうか)\n",
    "print(numpy.array_equal(a,b))"
   ]
  },
  {
   "cell_type": "code",
   "execution_count": 79,
   "metadata": {},
   "outputs": [
    {
     "name": "stdout",
     "output_type": "stream",
     "text": [
      "True\n"
     ]
    }
   ],
   "source": [
    "c = numpy.array([1,2,3,4])\n",
    "print(numpy.array_equal(a,c))"
   ]
  },
  {
   "cell_type": "code",
   "execution_count": 80,
   "metadata": {},
   "outputs": [
    {
     "name": "stdout",
     "output_type": "stream",
     "text": [
      "[False False  True  True]\n"
     ]
    }
   ],
   "source": [
    "#配列aとbの各要素に対して,aの要素>bの要素が成り立つか確認する\n",
    "print(a>b)"
   ]
  },
  {
   "cell_type": "code",
   "execution_count": 81,
   "metadata": {},
   "outputs": [
    {
     "name": "stdout",
     "output_type": "stream",
     "text": [
      "[False False False False]\n"
     ]
    }
   ],
   "source": [
    "print(a<b)"
   ]
  },
  {
   "cell_type": "markdown",
   "metadata": {},
   "source": [
    "# 配列のインデックスとスライス  \n",
    "リストやタプルの要素へのアクセス方法と同様に、配列の要素を取得することができます。インデックスは0から始まることに注意しましょう。"
   ]
  },
  {
   "cell_type": "code",
   "execution_count": 84,
   "metadata": {},
   "outputs": [
    {
     "name": "stdout",
     "output_type": "stream",
     "text": [
      "[1 3 5 7]\n"
     ]
    }
   ],
   "source": [
    "a = numpy.array([1,3,5,7])\n",
    "print(a)"
   ]
  },
  {
   "cell_type": "code",
   "execution_count": 85,
   "metadata": {},
   "outputs": [
    {
     "name": "stdout",
     "output_type": "stream",
     "text": [
      "3\n"
     ]
    }
   ],
   "source": [
    "# index=1（配列の3番目要素）を取得する\n",
    "print(a[1])"
   ]
  },
  {
   "cell_type": "markdown",
   "metadata": {},
   "source": [
    "二次元配列以上の多次元配列の場合にはインデックスを指定する順番、軸(axis)について\n",
    "気をつける必要があります。"
   ]
  },
  {
   "cell_type": "code",
   "execution_count": 86,
   "metadata": {},
   "outputs": [
    {
     "name": "stdout",
     "output_type": "stream",
     "text": [
      "b= [[0 1 2]\n",
      " [3 4 5]]\n",
      "b.shape= (2, 3)\n"
     ]
    }
   ],
   "source": [
    "#　二次元配列\n",
    "b = numpy.arange(6).reshape(2,3)\n",
    "print(\"b=\",b)\n",
    "print(\"b.shape=\",b.shape)"
   ]
  },
  {
   "cell_type": "code",
   "execution_count": 88,
   "metadata": {},
   "outputs": [
    {
     "name": "stdout",
     "output_type": "stream",
     "text": [
      "b[1]= [3 4 5]\n",
      "b[1,1]= 4\n"
     ]
    }
   ],
   "source": [
    "#bの0番目の軸方向の一番目を取り出す\n",
    "print(\"b[1]=\",b[1])\n",
    "\n",
    "#bの要素の軸方向の1番目かつ1番目の軸方向の一番目を取り出す\n",
    "print(\"b[1,1]=\",b[1,1])"
   ]
  },
  {
   "cell_type": "markdown",
   "metadata": {},
   "source": [
    "各軸のサイズについてはshapeで取得できる値を確認できます。"
   ]
  },
  {
   "cell_type": "code",
   "execution_count": 89,
   "metadata": {},
   "outputs": [
    {
     "name": "stdout",
     "output_type": "stream",
     "text": [
      "(2, 3)\n"
     ]
    }
   ],
   "source": [
    "print(b.shape)"
   ]
  },
  {
   "cell_type": "markdown",
   "metadata": {},
   "source": [
    "(2,3)と帰ってきているのでaxis=0の方向はサイズ2、axis=1の方向はサイズ3といことが\n",
    "わかります。  \n",
    "スライスに関してもリスト、タプルと同様に[start:end]を指定します。"
   ]
  },
  {
   "cell_type": "code",
   "execution_count": 90,
   "metadata": {},
   "outputs": [
    {
     "name": "stdout",
     "output_type": "stream",
     "text": [
      "[3 5 7]\n"
     ]
    }
   ],
   "source": [
    "#　配列の1番目から2番目の要素を取り出す。\n",
    "print(a[1:])"
   ]
  },
  {
   "cell_type": "code",
   "execution_count": 91,
   "metadata": {},
   "outputs": [
    {
     "name": "stdout",
     "output_type": "stream",
     "text": [
      "[7 5 3 1]\n"
     ]
    }
   ],
   "source": [
    "print(a[::-1])"
   ]
  },
  {
   "cell_type": "code",
   "execution_count": 92,
   "metadata": {},
   "outputs": [
    {
     "name": "stdout",
     "output_type": "stream",
     "text": [
      "before= [1 3 5 7]\n",
      "after= [ 1  3 10 14]\n"
     ]
    }
   ],
   "source": [
    "#スライスした要素を更新することもできます。\n",
    "print(\"before=\",a)\n",
    "a[2:]=numpy.array([10,14])\n",
    "print(\"after=\",a)"
   ]
  },
  {
   "cell_type": "code",
   "execution_count": 94,
   "metadata": {},
   "outputs": [
    {
     "name": "stdout",
     "output_type": "stream",
     "text": [
      "b= [[0 1 2]\n",
      " [3 4 5]\n",
      " [6 7 8]]\n",
      "\n",
      "b[1:, 1:]= [[4 5]\n",
      " [7 8]]\n"
     ]
    }
   ],
   "source": [
    "# 二次元配列の各軸についても同じようにスライスを取り出すことができます。  \n",
    "b = numpy.arange(9).reshape(3,3)\n",
    "print(\"b=\",b)\n",
    "print()\n",
    "# aの右下2×2を取り出す。\n",
    "print(\"b[1:, 1:]=\",b[1:, 1:])"
   ]
  },
  {
   "cell_type": "markdown",
   "metadata": {},
   "source": [
    "これまでのスライスでは範囲指定して値を取り出してきたと思いますが、:を使うことにより範囲を指定せず全部取り出すことができます。"
   ]
  },
  {
   "cell_type": "code",
   "execution_count": 95,
   "metadata": {},
   "outputs": [
    {
     "name": "stdout",
     "output_type": "stream",
     "text": [
      "b= [[0 1 2]\n",
      " [3 4 5]]\n",
      "\n",
      "b[1,:]= [3 4 5]\n",
      "b[1]= [3 4 5]\n",
      "\n",
      "b[:,1]= [1 4]\n"
     ]
    }
   ],
   "source": [
    "b = numpy.arange(6).reshape(2,3)\n",
    "print(\"b=\",b)\n",
    "print()\n",
    "\n",
    "#　ここではa[1,:]とa[1]は同じです。  \n",
    "print(\"b[1,:]=\",b[1,:])\n",
    "print(\"b[1]=\",b[1])\n",
    "print()\n",
    "\n",
    "#真ん中の列を取り出す。\n",
    "print(\"b[:,1]=\",b[:,1])"
   ]
  },
  {
   "cell_type": "markdown",
   "metadata": {},
   "source": [
    "なお、:はNumPy配列独自の記法なのでこれまでのlistなどでは使えないことに気をつけてください。"
   ]
  },
  {
   "cell_type": "markdown",
   "metadata": {},
   "source": [
    "## 特殊なインデックス  \n",
    "配列へのアクセス方法は上記のインデックスやスライスを用いた方法の他に、条件にあう部分だけ取り出す、指定した順番に取り出すと行ったことができます。配列の要素の指定に配列を使うことでこれらの機能が利用できます。"
   ]
  },
  {
   "cell_type": "code",
   "execution_count": 96,
   "metadata": {},
   "outputs": [
    {
     "name": "stdout",
     "output_type": "stream",
     "text": [
      "[ 0  1  2  3  4  5  6  7  8  9 10 11 12 13 14]\n"
     ]
    }
   ],
   "source": [
    "a = numpy.arange(15)\n",
    "print(a)"
   ]
  },
  {
   "cell_type": "code",
   "execution_count": 97,
   "metadata": {},
   "outputs": [
    {
     "name": "stdout",
     "output_type": "stream",
     "text": [
      "[ True False False  True False False  True False False  True False False\n",
      "  True False False]\n"
     ]
    }
   ],
   "source": [
    "# aの各要素が3で割り切れるかどうか(Trueなら割り切れる)\n",
    "print(a % 3 ==0)"
   ]
  },
  {
   "cell_type": "markdown",
   "metadata": {},
   "source": [
    "これをmaskという変数に代入するとします。"
   ]
  },
  {
   "cell_type": "code",
   "execution_count": 99,
   "metadata": {},
   "outputs": [
    {
     "name": "stdout",
     "output_type": "stream",
     "text": [
      "[ True False False  True False False  True False False  True False False\n",
      "  True False False]\n"
     ]
    }
   ],
   "source": [
    "mask = (a % 3 == 0)\n",
    "print(mask)"
   ]
  },
  {
   "cell_type": "markdown",
   "metadata": {},
   "source": [
    "このmaskを用いると、配列aの各要素の中で3の倍数だけを取りだすことができます。"
   ]
  },
  {
   "cell_type": "code",
   "execution_count": 101,
   "metadata": {},
   "outputs": [
    {
     "name": "stdout",
     "output_type": "stream",
     "text": [
      "[ 0  3  6  9 12]\n"
     ]
    }
   ],
   "source": [
    "print(a[mask])"
   ]
  },
  {
   "cell_type": "markdown",
   "metadata": {},
   "source": [
    "例えば、これらの要素を-1に変更してみます。"
   ]
  },
  {
   "cell_type": "code",
   "execution_count": 103,
   "metadata": {},
   "outputs": [
    {
     "name": "stdout",
     "output_type": "stream",
     "text": [
      "[-1  1  2 -1  4  5 -1  7  8 -1 10 11 -1 13 14]\n"
     ]
    }
   ],
   "source": [
    "a[mask] = -1\n",
    "print(a)"
   ]
  },
  {
   "cell_type": "markdown",
   "metadata": {},
   "source": [
    "上の例ではmaskをプログラム的に作成しました。その他に、整数のリスト（インデックスのリスト）を与えることもできます。"
   ]
  },
  {
   "cell_type": "code",
   "execution_count": 104,
   "metadata": {},
   "outputs": [
    {
     "name": "stdout",
     "output_type": "stream",
     "text": [
      "[-1  2  4 -1  8 10 -1 14]\n"
     ]
    }
   ],
   "source": [
    "# 偶数リスト\n",
    "lst = list(range(0,15,2))\n",
    "print(a[lst])"
   ]
  },
  {
   "cell_type": "markdown",
   "metadata": {},
   "source": [
    "インデックスにはlistではなくNumPyのarrayも与えることができ同じように動きます。"
   ]
  },
  {
   "cell_type": "code",
   "execution_count": 111,
   "metadata": {},
   "outputs": [
    {
     "name": "stdout",
     "output_type": "stream",
     "text": [
      "[-1  2  4 -1  8 10 -1 14]\n"
     ]
    }
   ],
   "source": [
    "print(a[numpy.arange(0,15,2)])"
   ]
  },
  {
   "cell_type": "markdown",
   "metadata": {},
   "source": [
    "このような特殊なインデックスをNumPyでは**fancy indexing**と呼んでいますがこの言葉自体は覚えなくても大丈夫です。"
   ]
  },
  {
   "cell_type": "markdown",
   "metadata": {},
   "source": [
    "## NumPyの関数の適用　その1\n",
    "NumPyにある関数はNumPy配列の各要素に呈して個別に適用するような関数が用意されています。"
   ]
  },
  {
   "cell_type": "code",
   "execution_count": 112,
   "metadata": {},
   "outputs": [
    {
     "name": "stdout",
     "output_type": "stream",
     "text": [
      "[1 2 3 4]\n"
     ]
    }
   ],
   "source": [
    "a = numpy.arange(1,5)\n",
    "print(a)"
   ]
  },
  {
   "cell_type": "markdown",
   "metadata": {},
   "source": [
    "numpy.tan()関数は配列aの各要素のy=tan(x)を求める関数です。類似の関数としては,numpy.sin()関数やnumpy.cos()関数が挙げられます。"
   ]
  },
  {
   "cell_type": "code",
   "execution_count": 113,
   "metadata": {},
   "outputs": [
    {
     "name": "stdout",
     "output_type": "stream",
     "text": [
      "[ 1.55740772 -2.18503986 -0.14254654  1.15782128]\n"
     ]
    }
   ],
   "source": [
    "print(numpy.tan(a))"
   ]
  },
  {
   "cell_type": "markdown",
   "metadata": {},
   "source": [
    "numpy.exp()関数は配列aの各要素のy=exp(x)を求める関数です。"
   ]
  },
  {
   "cell_type": "code",
   "execution_count": 115,
   "metadata": {},
   "outputs": [
    {
     "name": "stdout",
     "output_type": "stream",
     "text": [
      "[0.         0.69314718 1.09861229 1.38629436]\n"
     ]
    }
   ],
   "source": [
    "print(numpy.log(a))"
   ]
  },
  {
   "cell_type": "markdown",
   "metadata": {},
   "source": [
    "## NumPyの関数の適用　その2\n",
    "Numpy配列を使ってデータを表現した場合にそのデータの総和や最大最小といったデータの特徴を市レベル必要が生じる場合があります。  \n",
    "ここではそのような時に使う関数の一部を紹介します。"
   ]
  },
  {
   "cell_type": "code",
   "execution_count": 116,
   "metadata": {},
   "outputs": [
    {
     "name": "stdout",
     "output_type": "stream",
     "text": [
      "[1 2 3 4]\n"
     ]
    }
   ],
   "source": [
    "a = numpy.array([1,2,3,4])\n",
    "print(a)"
   ]
  },
  {
   "cell_type": "code",
   "execution_count": 117,
   "metadata": {},
   "outputs": [
    {
     "name": "stdout",
     "output_type": "stream",
     "text": [
      "総和 10\n",
      "最大値 4\n"
     ]
    }
   ],
   "source": [
    "print(\"総和\",numpy.sum(a))\n",
    "print(\"最大値\",numpy.max(a))"
   ]
  },
  {
   "cell_type": "markdown",
   "metadata": {},
   "source": [
    "numpy.argmax()関数は最大値である要素のインデックス、numpy.aragmin()関数は最小である要素のインデックスを返します。つまりnumpy.argmax()関数で探索した番目の数値を取り出すとそれが最大値となります。numpy.argmin()関数はその逆です。"
   ]
  },
  {
   "cell_type": "code",
   "execution_count": 118,
   "metadata": {},
   "outputs": [
    {
     "name": "stdout",
     "output_type": "stream",
     "text": [
      "argmax= 3\n",
      "max= 4\n"
     ]
    }
   ],
   "source": [
    "print(\"argmax=\",numpy.argmax(a))\n",
    "print(\"max=\",a[numpy.argmax(a)])"
   ]
  },
  {
   "cell_type": "markdown",
   "metadata": {},
   "source": [
    "以上の操作は配列のメソッドとしても利用することができます。"
   ]
  },
  {
   "cell_type": "code",
   "execution_count": 123,
   "metadata": {},
   "outputs": [
    {
     "name": "stdout",
     "output_type": "stream",
     "text": [
      "sum 10\n",
      "max 4\n",
      "argmax 3\n"
     ]
    }
   ],
   "source": [
    "print(\"sum\",a.sum())\n",
    "print(\"max\",a.max())\n",
    "print(\"argmax\",a.argmax())"
   ]
  },
  {
   "cell_type": "markdown",
   "metadata": {},
   "source": [
    "これらの集計関数もaxis方向を指定することでその軸方向への集計することができます。デフォルトでは結果は二次元配列の場合次元が一つ減った一次元配列となることに注意してください。"
   ]
  },
  {
   "cell_type": "code",
   "execution_count": 125,
   "metadata": {},
   "outputs": [
    {
     "name": "stdout",
     "output_type": "stream",
     "text": [
      "b= [[0 1 2]\n",
      " [3 4 5]]\n",
      "axis=0 [3 5 7]\n",
      "axis=1 [ 3 12]\n",
      "total 15\n"
     ]
    }
   ],
   "source": [
    "b = numpy.arange(6).reshape(2,3)\n",
    "print(\"b=\",b)\n",
    "print(\"axis=0\",b.sum(axis=0))\n",
    "print(\"axis=1\",b.sum(axis=1))\n",
    "print(\"total\",b.sum())"
   ]
  },
  {
   "cell_type": "markdown",
   "metadata": {},
   "source": [
    "keepdims = Trueを指定することで元の次元情報を保持してのその軸方向に集計を行います。"
   ]
  },
  {
   "cell_type": "code",
   "execution_count": 128,
   "metadata": {},
   "outputs": [
    {
     "name": "stdout",
     "output_type": "stream",
     "text": [
      "axis=0 [[3 5 7]]\n",
      "axis=0 shape (1, 3)\n",
      "axis=1 [[ 3]\n",
      " [12]]\n",
      "axis=1 shape (2, 1)\n"
     ]
    }
   ],
   "source": [
    "b0 = b.sum(axis=0,keepdims=True)\n",
    "print(\"axis=0\",b0)\n",
    "print(\"axis=0 shape\",b0.shape)\n",
    "b1 = b.sum(axis=1,keepdims=True)\n",
    "print(\"axis=1\",b1)\n",
    "print(\"axis=1 shape\",b1.shape)\n"
   ]
  },
  {
   "cell_type": "markdown",
   "metadata": {},
   "source": [
    "## ソート関数  \n",
    "最後に配列の要素をソートする方法を確認します。 "
   ]
  },
  {
   "cell_type": "code",
   "execution_count": 129,
   "metadata": {},
   "outputs": [
    {
     "name": "stdout",
     "output_type": "stream",
     "text": [
      "[4 3 1 4 2]\n"
     ]
    }
   ],
   "source": [
    "a = numpy.array([4,3,1,4,2])\n",
    "print(a)"
   ]
  },
  {
   "cell_type": "code",
   "execution_count": null,
   "metadata": {},
   "outputs": [],
   "source": [
    "配列の要素をソートする時はnumpy.sort()関数を利用します。"
   ]
  },
  {
   "cell_type": "code",
   "execution_count": 130,
   "metadata": {},
   "outputs": [
    {
     "name": "stdout",
     "output_type": "stream",
     "text": [
      "[1 2 3 4 4]\n"
     ]
    }
   ],
   "source": [
    "print(numpy.sort(a))"
   ]
  },
  {
   "cell_type": "markdown",
   "metadata": {},
   "source": [
    "numpy.argsort()関数はソートした結果をインデックスで取得します。"
   ]
  },
  {
   "cell_type": "code",
   "execution_count": 132,
   "metadata": {},
   "outputs": [
    {
     "name": "stdout",
     "output_type": "stream",
     "text": [
      "[2 4 1 0 3]\n"
     ]
    }
   ],
   "source": [
    "print(numpy.argsort(a))"
   ]
  },
  {
   "cell_type": "markdown",
   "metadata": {},
   "source": [
    "これは例えば最も小さい値は2番目の要素、次に小さい要素は4番目の要素という意味になります。  \n",
    "先に説明した特殊なインデックスを用いるとnumpy.sort()関数と同じ結果が得られます。"
   ]
  },
  {
   "cell_type": "code",
   "execution_count": 133,
   "metadata": {},
   "outputs": [
    {
     "data": {
      "text/plain": [
       "array([1, 2, 3, 4, 4])"
      ]
     },
     "execution_count": 133,
     "metadata": {},
     "output_type": "execute_result"
    }
   ],
   "source": [
    "mask = numpy.argsort(a)\n",
    "a[mask]"
   ]
  },
  {
   "cell_type": "code",
   "execution_count": null,
   "metadata": {},
   "outputs": [],
   "source": [
    "## その他\n",
    "ここではNumPyはいれt"
   ]
  }
 ],
 "metadata": {
  "kernelspec": {
   "display_name": "Python 3",
   "language": "python",
   "name": "python3"
  },
  "language_info": {
   "codemirror_mode": {
    "name": "ipython",
    "version": 3
   },
   "file_extension": ".py",
   "mimetype": "text/x-python",
   "name": "python",
   "nbconvert_exporter": "python",
   "pygments_lexer": "ipython3",
   "version": "3.8.4"
  }
 },
 "nbformat": 4,
 "nbformat_minor": 4
}
