{
 "cells": [
  {
   "cell_type": "markdown",
   "metadata": {},
   "source": [
    "# NumPy  \n",
    "NumPyはPythonで高速に数値計算を行う機能を提供するパッケージです。Pythoが科学計算分野で広く使われることに貢献したパッケージの一つといっても過言はないでしょう。  \n",
    "\n",
    "## インストール  \n",
    "macOSなら\n",
    "```python\n",
    "pip3 install numpy\n",
    "```\n",
    "\n",
    "## 基本的な使い方\n",
    "標準モジュールと同様にNumPyを使うためにまずimportします。\n"
   ]
  },
  {
   "cell_type": "code",
   "execution_count": 2,
   "metadata": {},
   "outputs": [],
   "source": [
    "import numpy"
   ]
  },
  {
   "cell_type": "markdown",
   "metadata": {},
   "source": [
    "## 配列を作る  \n",
    "Pythonにはすでにみてきたようにリストがありますが、NumPyではリストに似た\"配列\"と呼ばれるデータ構造を利用していきます。  \n",
    "ここではPythonのリストからnumpy.array（配列)を作ります。  \n",
    "一次元配列  "
   ]
  },
  {
   "cell_type": "code",
   "execution_count": 3,
   "metadata": {},
   "outputs": [
    {
     "name": "stdout",
     "output_type": "stream",
     "text": [
      "[0 1 2 3]\n"
     ]
    }
   ],
   "source": [
    "a = numpy.array([0,1,2,3])\n",
    "print(a)"
   ]
  },
  {
   "cell_type": "markdown",
   "metadata": {},
   "source": [
    "二次元配列  "
   ]
  },
  {
   "cell_type": "code",
   "execution_count": 4,
   "metadata": {},
   "outputs": [
    {
     "name": "stdout",
     "output_type": "stream",
     "text": [
      "[[0 1 2]\n",
      " [3 4 5]]\n"
     ]
    }
   ],
   "source": [
    "b = numpy.array([[0,1,2],[3,4,5]])\n",
    "print(b)"
   ]
  },
  {
   "cell_type": "markdown",
   "metadata": {},
   "source": [
    "numpy.array([[0,1],[2,3,4]])といったサイズの異なる二次元配列を与えることもできますが、合う買いません。  \n",
    "\n",
    "配列の次元は**shape属性**を見るとわかります。"
   ]
  },
  {
   "cell_type": "code",
   "execution_count": 5,
   "metadata": {},
   "outputs": [
    {
     "name": "stdout",
     "output_type": "stream",
     "text": [
      ".shape (4,)\n",
      "b.shape (2, 3)\n"
     ]
    }
   ],
   "source": [
    "print(\".shape\",a.shape)\n",
    "print(\"b.shape\",b.shape)"
   ]
  },
  {
   "cell_type": "markdown",
   "metadata": {},
   "source": [
    "要素数は**size属性**を見るとわかります。  "
   ]
  },
  {
   "cell_type": "code",
   "execution_count": 7,
   "metadata": {},
   "outputs": [
    {
     "name": "stdout",
     "output_type": "stream",
     "text": [
      "a.shape 4\n",
      "b.shape 6\n"
     ]
    }
   ],
   "source": [
    "print(\"a.shape\",a.size)\n",
    "print(\"b.shape\",b.size)"
   ]
  },
  {
   "cell_type": "markdown",
   "metadata": {},
   "source": [
    "#　配列を作る関数  \n",
    "numpy.arange()関数はリスト"
   ]
  }
 ],
 "metadata": {
  "kernelspec": {
   "display_name": "Python 3",
   "language": "python",
   "name": "python3"
  },
  "language_info": {
   "codemirror_mode": {
    "name": "ipython",
    "version": 3
   },
   "file_extension": ".py",
   "mimetype": "text/x-python",
   "name": "python",
   "nbconvert_exporter": "python",
   "pygments_lexer": "ipython3",
   "version": "3.8.4"
  }
 },
 "nbformat": 4,
 "nbformat_minor": 4
}
