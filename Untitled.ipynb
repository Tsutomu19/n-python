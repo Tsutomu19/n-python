{
 "cells": [
  {
   "cell_type": "markdown",
   "metadata": {},
   "source": [
    "# NumPy  \n",
    "NumPyはPythonで高速に数値計算を行う機能を提供するパッケージです。Pythoが科学計算分野で広く使われることに貢献したパッケージの一つといっても過言はないでしょう。  \n",
    "\n",
    "## インストール  \n",
    "macOSなら\n",
    "```python\n",
    "pip3 install numpy\n",
    "```\n",
    "\n",
    "## 基本的な使い方\n",
    "標準モジュールと同様にNumPyを使うためにまずimportします。\n",
    "```python\n",
    "```"
   ]
  }
 ],
 "metadata": {
  "kernelspec": {
   "display_name": "Python 3",
   "language": "python",
   "name": "python3"
  },
  "language_info": {
   "codemirror_mode": {
    "name": "ipython",
    "version": 3
   },
   "file_extension": ".py",
   "mimetype": "text/x-python",
   "name": "python",
   "nbconvert_exporter": "python",
   "pygments_lexer": "ipython3",
   "version": "3.8.4"
  }
 },
 "nbformat": 4,
 "nbformat_minor": 4
}
