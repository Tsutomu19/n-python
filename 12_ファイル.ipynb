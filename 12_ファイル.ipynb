{
 "cells": [
  {
   "cell_type": "markdown",
   "metadata": {},
   "source": [
    "# ファイル  \n",
    "この回ではPythonでファイルが扱われるようになります。  \n",
    "プログラムの計算結果などをファイルに出力したり、ファイルからデータを読み込む処理というのはよく行われる処理の一つです。ここではファイルの読み書きを紹介します。  \n",
    "\n",
    "## ファイルへの書き込み  \n",
    "まず実際に"
   ]
  }
 ],
 "metadata": {
  "kernelspec": {
   "display_name": "Python 3",
   "language": "python",
   "name": "python3"
  },
  "language_info": {
   "codemirror_mode": {
    "name": "ipython",
    "version": 3
   },
   "file_extension": ".py",
   "mimetype": "text/x-python",
   "name": "python",
   "nbconvert_exporter": "python",
   "pygments_lexer": "ipython3",
   "version": "3.8.4"
  }
 },
 "nbformat": 4,
 "nbformat_minor": 4
}
