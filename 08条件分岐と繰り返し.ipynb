{
 "cells": [
  {
   "cell_type": "markdown",
   "metadata": {},
   "source": [
    "# 条件分岐と繰り返し  \n",
    "## if文  \n",
    "プログラムを条件分岐させる時にif文を利用します。  \n",
    "if文の構文はif..elif...elseとなります。"
   ]
  },
  {
   "cell_type": "code",
   "execution_count": 4,
   "metadata": {},
   "outputs": [
    {
     "name": "stdout",
     "output_type": "stream",
     "text": [
      "xは正の整数です。\n"
     ]
    }
   ],
   "source": [
    "x = 42\n",
    "if x < 0:\n",
    "    print(\"xは負の整数です。\")\n",
    "elif x > 0:\n",
    "    print(\"xは正の整数です。\")\n",
    "else:\n",
    "    print(\"xは0です。\")"
   ]
  },
  {
   "cell_type": "markdown",
   "metadata": {},
   "source": [
    "## Pythonのインデント  \n",
    "上記のコードにおいて、print()関数の部分はインデントが使われています。インデントはタブやスペースを使って表し、インデントがなされた部分をブロックと言います。if分やfor文で実行されるのはブロックに書かれた文です。ブロックの各行は同じ数だけインデントされていなければならないので注意。  \n",
    "if文だけでなく、for文やクラスの定義でもインデントを用いてブロックを作る必要があるのでインデントの有無に気をつけながらテキストを読む。  \n",
    "## for文  \n",
    "任意のシーケンス（リストや文字列）に対して、繰り返し処理をする時にfor文を利用します。  \n",
    "for文の構文はfor...in~~~　となり、一つづつ要素を取り出し、それを..に割り当て繰り返し処理を実行します。 "
   ]
  },
  {
   "cell_type": "code",
   "execution_count": 2,
   "metadata": {},
   "outputs": [
    {
     "name": "stdout",
     "output_type": "stream",
     "text": [
      "w=dwango,len(w)=6\n",
      "w=kabukiza,len(w)=8\n",
      "w=higashiginza,len(w)=12\n"
     ]
    }
   ],
   "source": [
    "words = ['dwango','kabukiza','higashiginza']\n",
    "for w in words:\n",
    "    print(f\"w={w},len(w)={len(w)}\")#単語と単語の長さを表示する  "
   ]
  },
  {
   "cell_type": "markdown",
   "metadata": {},
   "source": [
    "# for文のテクニック  \n",
    "シーケンス、コンテナに対してよく使われるループの方法をいくつか見ていきます。  \n",
    "range()関数を使うと、簡単に数列を作ることができます。rangi(n)は0からn未満までの整数を生成します。"
   ]
  },
  {
   "cell_type": "code",
   "execution_count": 4,
   "metadata": {},
   "outputs": [
    {
     "name": "stdout",
     "output_type": "stream",
     "text": [
      "v= 0\n",
      "v= 1\n",
      "v= 2\n",
      "v= 3\n",
      "v= 4\n"
     ]
    }
   ],
   "source": [
    "for v in range(5):\n",
    "    print(\"v=\",v)"
   ]
  },
  {
   "cell_type": "code",
   "execution_count": 5,
   "metadata": {},
   "outputs": [],
   "source": [
    "#range(a,b)はaからb未満までの整数を生成します。"
   ]
  },
  {
   "cell_type": "code",
   "execution_count": 6,
   "metadata": {},
   "outputs": [
    {
     "name": "stdout",
     "output_type": "stream",
     "text": [
      "v= 5\n",
      "v= 6\n",
      "v= 7\n",
      "v= 8\n",
      "v= 9\n"
     ]
    }
   ],
   "source": [
    "for v in range(5,10):\n",
    "    print(\"v=\",v)"
   ]
  },
  {
   "cell_type": "code",
   "execution_count": 7,
   "metadata": {},
   "outputs": [],
   "source": [
    "#range(a,b,c)はaからb未満までc感覚で整数を生成します。"
   ]
  },
  {
   "cell_type": "code",
   "execution_count": 8,
   "metadata": {},
   "outputs": [
    {
     "name": "stdout",
     "output_type": "stream",
     "text": [
      "v= 0\n",
      "v= 3\n",
      "v= 6\n",
      "v= 9\n"
     ]
    }
   ],
   "source": [
    "for v in range(0,10,3):\n",
    "    print(\"v=\",v)"
   ]
  },
  {
   "cell_type": "code",
   "execution_count": 9,
   "metadata": {},
   "outputs": [],
   "source": [
    "#負の数を与えることもできます。"
   ]
  },
  {
   "cell_type": "code",
   "execution_count": 12,
   "metadata": {},
   "outputs": [
    {
     "name": "stdout",
     "output_type": "stream",
     "text": [
      "v= -10\n",
      "v= -40\n",
      "v= -70\n"
     ]
    }
   ],
   "source": [
    "for v in range(-10,-100,-30):\n",
    "    print(\"v=\",v)"
   ]
  },
  {
   "cell_type": "markdown",
   "metadata": {},
   "source": [
    "リスト、タプルにたいして、ループの時に要素とカウンター（何回めのループか）を一緒に取り出したい時はenumerate()関数を利用します。以下の例ではiがカウンターとなっています。  \n"
   ]
  },
  {
   "cell_type": "code",
   "execution_count": null,
   "metadata": {},
   "outputs": [],
   "source": [
    "lst = list(range(5,10))\n",
    "print(\"list=\",)"
   ]
  }
 ],
 "metadata": {
  "kernelspec": {
   "display_name": "Python 3",
   "language": "python",
   "name": "python3"
  },
  "language_info": {
   "codemirror_mode": {
    "name": "ipython",
    "version": 3
   },
   "file_extension": ".py",
   "mimetype": "text/x-python",
   "name": "python",
   "nbconvert_exporter": "python",
   "pygments_lexer": "ipython3",
   "version": "3.8.4"
  }
 },
 "nbformat": 4,
 "nbformat_minor": 4
}
