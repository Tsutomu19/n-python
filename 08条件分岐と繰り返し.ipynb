{
 "cells": [
  {
   "cell_type": "markdown",
   "metadata": {},
   "source": [
    "# 条件分岐と繰り返し  \n",
    "## if文  \n",
    "プログラムを条件分岐させる時にif文を利用します。  \n",
    "if文の構文はif..elif...elseとなります。"
   ]
  },
  {
   "cell_type": "code",
   "execution_count": 4,
   "metadata": {},
   "outputs": [
    {
     "name": "stdout",
     "output_type": "stream",
     "text": [
      "xは正の整数です。\n"
     ]
    }
   ],
   "source": [
    "x = 42\n",
    "if x < 0:\n",
    "    print(\"xは負の整数です。\")\n",
    "elif x > 0:\n",
    "    print(\"xは正の整数です。\")\n",
    "else:\n",
    "    print(\"xは0です。\")"
   ]
  },
  {
   "cell_type": "markdown",
   "metadata": {},
   "source": [
    "## Pythonのインデント  \n",
    "上記のコードにおいて、print()関数の部分はインデントが使われています。インデントはタブやスペースを使って表し、インデントがなされた部分をブロックと言います。if分やfor文で実行されるのはブロックに書かれた文です。ブロックの各行は同じ数だけインデントされていなければならないので注意。  \n",
    "if文だけでなく、for文やクラスの定義でもインデントを用いてブロックを作る必要があるのでインデントの有無に気をつけながらテキストを読む。  \n",
    "## for文  \n",
    "任意のシーケンス（リストや文字列）に対して、繰り返し処理をする時にfor文を利用します。  \n",
    "for文の構文はfor...in~~~　となり、一つづつ要素を取り出し、それを..に割り当て繰り返し処理を実行します。 "
   ]
  },
  {
   "cell_type": "code",
   "execution_count": null,
   "metadata": {},
   "outputs": [],
   "source": [
    "words = ['dwango','kabukiza','higashiginza']\n",
    "fo w in words:\n",
    "    print(f\"w={w},len(w)={len(w)})"
   ]
  }
 ],
 "metadata": {
  "kernelspec": {
   "display_name": "Python 3",
   "language": "python",
   "name": "python3"
  },
  "language_info": {
   "codemirror_mode": {
    "name": "ipython",
    "version": 3
   },
   "file_extension": ".py",
   "mimetype": "text/x-python",
   "name": "python",
   "nbconvert_exporter": "python",
   "pygments_lexer": "ipython3",
   "version": "3.8.4"
  }
 },
 "nbformat": 4,
 "nbformat_minor": 4
}
