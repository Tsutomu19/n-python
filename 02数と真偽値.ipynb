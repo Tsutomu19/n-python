{
 "cells": [
  {
   "cell_type": "code",
   "execution_count": 1,
   "metadata": {},
   "outputs": [
    {
     "name": "stdout",
     "output_type": "stream",
     "text": [
      "1+1= 2\n",
      "10-7= 3\n",
      "2*2= 4\n",
      "1/3= 0.3333333333333333\n",
      "5//3= 1\n",
      "5%3= 2\n",
      "5**2= 25\n"
     ]
    }
   ],
   "source": [
    "print('1+1=',1+1)\n",
    "print('10-7=',10-7)\n",
    "print('2*2=',2*2)\n",
    "print('1/3=',1/3)\n",
    "print('5//3=',5//3)\n",
    "print('5%3=',5%3)\n",
    "print('5**2=',5**2)"
   ]
  },
  {
   "cell_type": "code",
   "execution_count": 2,
   "metadata": {},
   "outputs": [
    {
     "name": "stdout",
     "output_type": "stream",
     "text": [
      "42.5\n"
     ]
    }
   ],
   "source": [
    "print(50-5*6/4)"
   ]
  },
  {
   "cell_type": "code",
   "execution_count": 6,
   "metadata": {},
   "outputs": [
    {
     "name": "stdout",
     "output_type": "stream",
     "text": [
      "900\n"
     ]
    }
   ],
   "source": [
    "width = 20\n",
    "height = 5 * 9\n",
    "print(width * height)"
   ]
  },
  {
   "cell_type": "code",
   "execution_count": 7,
   "metadata": {},
   "outputs": [
    {
     "name": "stdout",
     "output_type": "stream",
     "text": [
      "10 11\n"
     ]
    }
   ],
   "source": [
    "c,d = 10,11\n",
    "print(c,d)\n"
   ]
  },
  {
   "cell_type": "code",
   "execution_count": 8,
   "metadata": {},
   "outputs": [],
   "source": [
    "#大文字の変数は定数として扱う慣習があります。\n",
    "PI = 3.14\n",
    "\n",
    "#ただし実際の定数ではないので、変更してもエラーにはなりません。\n",
    "PI = 3"
   ]
  },
  {
   "cell_type": "code",
   "execution_count": 9,
   "metadata": {},
   "outputs": [
    {
     "name": "stdout",
     "output_type": "stream",
     "text": [
      "True\n"
     ]
    }
   ],
   "source": [
    "print(False and True or True)"
   ]
  },
  {
   "cell_type": "code",
   "execution_count": 10,
   "metadata": {},
   "outputs": [
    {
     "name": "stdout",
     "output_type": "stream",
     "text": [
      "True\n"
     ]
    }
   ],
   "source": [
    "print((False and True)or True)"
   ]
  },
  {
   "cell_type": "markdown",
   "metadata": {},
   "source": [
    "#真偽値  \n",
    "Pythonではbool型と言います。  \n",
    "x or y  　xが偽ならy,そうでなければx  \n",
    "x and y  　xが偽ならx,そうでなければx  \n",
    "not x   xが偽ならtrue,そうでなければfalse  \n",
    "andはorより優先されることに注意。  "
   ]
  },
  {
   "cell_type": "code",
   "execution_count": 13,
   "metadata": {},
   "outputs": [
    {
     "name": "stdout",
     "output_type": "stream",
     "text": [
      "4347141360\n",
      "4347141392\n",
      "4349285936\n",
      "4384940848\n"
     ]
    }
   ],
   "source": [
    "print(id(1))\n",
    "print(id(2))\n",
    "print(id(\"abc\"))\n",
    "print(id(\"N高\"))\n",
    "#Pythonではすべてのものについて一意のidというものを持っています。これはid()関数を使って調べることができます。\n"
   ]
  },
  {
   "cell_type": "code",
   "execution_count": 14,
   "metadata": {
    "scrolled": true
   },
   "outputs": [
    {
     "name": "stdout",
     "output_type": "stream",
     "text": [
      "4347141360\n"
     ]
    }
   ],
   "source": [
    "x = 1\n",
    "print(id(x))"
   ]
  },
  {
   "cell_type": "markdown",
   "metadata": {},
   "source": [
    "上の例ではid(x)とid(1)が同じ値になっていることが確認できる。このidが同じかどうかを比較するのがis,is notになります。"
   ]
  },
  {
   "cell_type": "code",
   "execution_count": 15,
   "metadata": {},
   "outputs": [
    {
     "name": "stdout",
     "output_type": "stream",
     "text": [
      "True\n",
      "True\n"
     ]
    }
   ],
   "source": [
    "x = 1\n",
    "y = 1\n",
    "print(id(x) == id(y))\n",
    "print(x == y)"
   ]
  },
  {
   "cell_type": "code",
   "execution_count": 16,
   "metadata": {},
   "outputs": [
    {
     "name": "stdout",
     "output_type": "stream",
     "text": [
      "True\n",
      "False\n",
      "4384940848 4384942864\n"
     ]
    }
   ],
   "source": [
    "x = \"N高\"\n",
    "y = \"N高\"\n",
    "\n",
    "print(x == y)#値は同じ\n",
    "print(x is y)#idは異なる\n",
    "print(id(x),id(y))#それぞれのidを出力する"
   ]
  },
  {
   "cell_type": "markdown",
   "metadata": {},
   "source": [
    "idが同じまたは異なるかどうかで何が嬉しいかとういことは実際に使うときに説明。idというものがあり、中身の値が同じでもidが違う時もある。ことを覚えておく。"
   ]
  }
 ],
 "metadata": {
  "kernelspec": {
   "display_name": "Python 3",
   "language": "python",
   "name": "python3"
  },
  "language_info": {
   "codemirror_mode": {
    "name": "ipython",
    "version": 3
   },
   "file_extension": ".py",
   "mimetype": "text/x-python",
   "name": "python",
   "nbconvert_exporter": "python",
   "pygments_lexer": "ipython3",
   "version": "3.8.4"
  }
 },
 "nbformat": 4,
 "nbformat_minor": 4
}
