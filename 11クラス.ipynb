{
 "cells": [
  {
   "cell_type": "markdown",
   "metadata": {},
   "source": [
    "# クラス  \n",
    "Pythonはオブジェクト思考言語と呼ばれるプログラミング言語に属し、独自のクラスを定義することができます。  \n",
    "\n",
    "クラスを定義するときはclassキーワードを利用します。メソッドの定義にはdefを利用しますが、第一引数にはインスタンスオブジェクトが渡されます。この引数にはselfという名前を使用するのが慣習です。  \n",
    "下記の例はVideoクラスを作ります。このクラスは  \n",
    "- インスタンス化時に一度だけ呼ばれる特別な__init__()メソッド  \n",
    "- 動画を再生するplay()メソッド  \n",
    "- 動画の再生を開始するstart()メソッド  \n",
    "- 動画の再生を停止するstop()メソッド  \n",
    "を例として持たせています。  "
   ]
  },
  {
   "cell_type": "code",
   "execution_count": 12,
   "metadata": {},
   "outputs": [],
   "source": [
    "class Video:\n",
    "    def __init__(self, video_id,title):\n",
    "        \"\"\"クラスをインスタンス化する時に呼び出されるメソッド\"\"\"\n",
    "        self.id = video_id\n",
    "        self.title = title\n",
    "        \n",
    "    def play(self):\n",
    "        \"\"\"動画を再生する\"\"\"\n",
    "        self.start()\n",
    "        print(f\"Playing {self.title}\")\n",
    "        self.stop()\n",
    "        \n",
    "    def start(self):\n",
    "        \"\"\"動画の再生を開始する\"\"\"\n",
    "        print(f\"Start {self.id}\")\n",
    "        \n",
    "    def stop(self):\n",
    "        \"\"\"動画の再生を止める\"\"\"\n",
    "        print(f\"Stop {self.id}\")"
   ]
  },
  {
   "cell_type": "markdown",
   "metadata": {},
   "source": [
    "このVideo Classは動画IDと動画タイトルを渡してインスタンス化します。  "
   ]
  },
  {
   "cell_type": "code",
   "execution_count": 17,
   "metadata": {},
   "outputs": [],
   "source": [
    "video = Video('test_video_id','テスト動画')  "
   ]
  },
  {
   "cell_type": "markdown",
   "metadata": {},
   "source": [
    "作成したvideoのメソッド(defで定義した関数)は以下のように呼びます。  "
   ]
  },
  {
   "cell_type": "code",
   "execution_count": 18,
   "metadata": {},
   "outputs": [
    {
     "name": "stdout",
     "output_type": "stream",
     "text": [
      "Start test_video_id\n",
      "Playing テスト動画\n",
      "Stop test_video_id\n"
     ]
    }
   ],
   "source": [
    "video.play()"
   ]
  },
  {
   "cell_type": "markdown",
   "metadata": {},
   "source": [
    "このVideoクラスを使ってニコニコ動画の一機能であるマイリストを作ってみまます。  "
   ]
  },
  {
   "cell_type": "code",
   "execution_count": 20,
   "metadata": {},
   "outputs": [],
   "source": [
    "mylists = [\n",
    "    Video('sm9','新・豪血寺一族 -煩悩解放 - レッツゴー！陰陽師'),\n",
    "    Video('sm1097445', '【初音ミク】みくみくにしてあげる♪【してやんよ】'),\n",
    "    Video('sm15022913', '【初音ミク（40㍍）】 からくりピエロ 【オリジナルPV】'),\n",
    "    Video('1397552685', 'ご注文はうさぎですか？　第1羽「ひと目で、尋常でないもふもふだと見抜いたよ」')\n",
    "]"
   ]
  },
  {
   "cell_type": "code",
   "execution_count": 21,
   "metadata": {},
   "outputs": [
    {
     "name": "stdout",
     "output_type": "stream",
     "text": [
      "Start sm9\n",
      "Playing 新・豪血寺一族 -煩悩解放 - レッツゴー！陰陽師\n",
      "Stop sm9\n",
      "\n",
      "Start sm1097445\n",
      "Playing 【初音ミク】みくみくにしてあげる♪【してやんよ】\n",
      "Stop sm1097445\n",
      "\n",
      "Start sm15022913\n",
      "Playing 【初音ミク（40㍍）】 からくりピエロ 【オリジナルPV】\n",
      "Stop sm15022913\n",
      "\n",
      "Start 1397552685\n",
      "Playing ご注文はうさぎですか？　第1羽「ひと目で、尋常でないもふもふだと見抜いたよ」\n",
      "Stop 1397552685\n",
      "\n"
     ]
    }
   ],
   "source": [
    "for video in mylists:\n",
    "    video.play()\n",
    "    print() #空行を挿入する  "
   ]
  },
  {
   "cell_type": "code",
   "execution_count": null,
   "metadata": {},
   "outputs": [],
   "source": []
  }
 ],
 "metadata": {
  "kernelspec": {
   "display_name": "Python 3",
   "language": "python",
   "name": "python3"
  },
  "language_info": {
   "codemirror_mode": {
    "name": "ipython",
    "version": 3
   },
   "file_extension": ".py",
   "mimetype": "text/x-python",
   "name": "python",
   "nbconvert_exporter": "python",
   "pygments_lexer": "ipython3",
   "version": "3.8.4"
  }
 },
 "nbformat": 4,
 "nbformat_minor": 4
}
