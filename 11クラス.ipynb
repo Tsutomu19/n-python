{
 "cells": [
  {
   "cell_type": "markdown",
   "metadata": {},
   "source": [
    "# クラス  \n",
    "Pythonはオブジェクト思考言語と呼ばれるプログラミング言語に属し、独自のクラスを定義することができます。  \n",
    "\n",
    "クラスを定義するときはclassキーワードを利用します。メソッドの定義にはdefを利用しますが、第一引数にはインスタンスオブジェクトが渡されます。この引数にはselfという名前を使用するのが慣習です。  \n",
    "下記の例はVideoクラスを作ります。このクラスは  \n",
    "- インスタンス化時に一度だけ呼ばれる特別な__init__()メソッド  \n",
    "- 動画を再生するplay()メソッド  \n",
    "- 動画の再生を開始するstart()メソッド  \n",
    "- 動画の再生を停止するstop()メソッド  \n",
    "を例として持たせています。  "
   ]
  },
  {
   "cell_type": "code",
   "execution_count": null,
   "metadata": {},
   "outputs": [],
   "source": []
  }
 ],
 "metadata": {
  "kernelspec": {
   "display_name": "Python 3",
   "language": "python",
   "name": "python3"
  },
  "language_info": {
   "codemirror_mode": {
    "name": "ipython",
    "version": 3
   },
   "file_extension": ".py",
   "mimetype": "text/x-python",
   "name": "python",
   "nbconvert_exporter": "python",
   "pygments_lexer": "ipython3",
   "version": "3.8.4"
  }
 },
 "nbformat": 4,
 "nbformat_minor": 4
}
