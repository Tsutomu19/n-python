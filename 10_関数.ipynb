{
 "cells": [
  {
   "cell_type": "markdown",
   "metadata": {},
   "source": [
    "# 関数  \n",
    "他のプログラミング言語と同様に、Pythonも関数を定義することができます。  \n",
    "関数の定義はdefというキーワードから初めて、\n",
    "```python\n",
    "def function(arg1,...,argN):\n",
    "    #ここに関数の内容をかく  \n",
    "```\n",
    "という構文をとります。defの後に続くfunctionには関数の名前を書き、丸括弧のarg1,...,argNが引数になります。引数は0この時もあります。  \n",
    "この次の行からインデントして書いたコードが、この関数の本体になります。  \n",
    "**関数が返却値を返す時はreturn文を利用します。**return文が実行されると、直ちに関数の実行は終了します。"
   ]
  },
  {
   "cell_type": "code",
   "execution_count": 1,
   "metadata": {},
   "outputs": [],
   "source": [
    "#引数を一つとってそのまま返す関数の定義  \n",
    "def identity(x):\n",
    "    return x #この行が実行されると関数の実行が終了します。\n",
    "    y = 2 * x #したがってこの行は実行されません。（無意味な行）"
   ]
  },
  {
   "cell_type": "markdown",
   "metadata": {},
   "source": [
    "関数の本体にかく一行目を文字列リテラルにすることができます。これをドキュメンテーションといい、通常、その関数が何を行う化の説明を書いておきます。  \n",
    "**リテラル**とはソースコードにベタがきされた文字列や数字のこと。  "
   ]
  },
  {
   "cell_type": "code",
   "execution_count": 4,
   "metadata": {},
   "outputs": [],
   "source": [
    "#　引数を一つとる関数の定義  \n",
    "def square(x):\n",
    "    \"\"\"xの二錠を返す関数\"\"\"\n",
    "    return x ** 2"
   ]
  },
  {
   "cell_type": "markdown",
   "metadata": {},
   "source": [
    "定義した関数は次のようにして呼び出すことができます。下の例ではsquare()関数に2を渡して、返された値をyに代入しています。square()関数は引数の二乗を計算して返すのでyにはxの二乗が代入されます。 "
   ]
  },
  {
   "cell_type": "code",
   "execution_count": 12,
   "metadata": {},
   "outputs": [
    {
     "name": "stdout",
     "output_type": "stream",
     "text": [
      "4\n",
      "100\n"
     ]
    }
   ],
   "source": [
    "def square(x):\n",
    "    \"\"\"xの二錠を返す関数\"\"\"\n",
    "    return x ** 2\n",
    "y = square(2)\n",
    "print(y)\n",
    "\n",
    "y = square(-10)\n",
    "print(y)"
   ]
  },
  {
   "cell_type": "code",
   "execution_count": 14,
   "metadata": {},
   "outputs": [],
   "source": [
    "#引数を二つ以上とる関数の定義も同様です。引数をカンマで区切って並べて書きます。\n",
    "def average(x,y):\n",
    "        \"\"\"xとyの平均値を求める\"\"\"\n",
    "        avg = (x+y) / 2\n",
    "        return avg"
   ]
  },
  {
   "cell_type": "code",
   "execution_count": 15,
   "metadata": {},
   "outputs": [
    {
     "name": "stdout",
     "output_type": "stream",
     "text": [
      "4.0\n"
     ]
    }
   ],
   "source": [
    "a = average(3,5)\n",
    "print(a)"
   ]
  },
  {
   "cell_type": "code",
   "execution_count": 16,
   "metadata": {},
   "outputs": [
    {
     "name": "stdout",
     "output_type": "stream",
     "text": [
      "0.0\n"
     ]
    }
   ],
   "source": [
    "a = average(-1,1)\n",
    "print(a)"
   ]
  },
  {
   "cell_type": "markdown",
   "metadata": {},
   "source": [
    "引数にデフォルト値を持たせることができます。  \n",
    "デフォルト引数を定義する時は**kwarg=value**の形式で引数を追加します。  "
   ]
  },
  {
   "cell_type": "code",
   "execution_count": 6,
   "metadata": {},
   "outputs": [
    {
     "name": "stdout",
     "output_type": "stream",
     "text": [
      "Hi!\n",
      "What?\n"
     ]
    }
   ],
   "source": [
    "#suffixはデフォルト値ともつ\n",
    "def my_print(txt,suffix=\"!\"):\n",
    "    print(txt + suffix)\n",
    "my_print(\"Hi\")\n",
    "my_print('What','?')"
   ]
  },
  {
   "cell_type": "markdown",
   "metadata": {},
   "source": [
    "また、kwag=valueという形式のキーワード引数を使って、関数を呼び出すことができます。"
   ]
  },
  {
   "cell_type": "code",
   "execution_count": 3,
   "metadata": {},
   "outputs": [
    {
     "name": "stdout",
     "output_type": "stream",
     "text": [
      "Hi!\n"
     ]
    }
   ],
   "source": [
    "my_print(txt='Hi')"
   ]
  },
  {
   "cell_type": "code",
   "execution_count": 9,
   "metadata": {},
   "outputs": [
    {
     "name": "stdout",
     "output_type": "stream",
     "text": [
      "What?\n"
     ]
    }
   ],
   "source": [
    "my_print(txt='What', suffix='?') # 上と同じ"
   ]
  },
  {
   "cell_type": "code",
   "execution_count": 8,
   "metadata": {},
   "outputs": [
    {
     "name": "stdout",
     "output_type": "stream",
     "text": [
      "Hi!\n"
     ]
    }
   ],
   "source": [
    "my_print(suffix='!',txt='Hi')"
   ]
  },
  {
   "cell_type": "markdown",
   "metadata": {},
   "source": [
    "キーワード引数を用いると、関数の定義と異なる順序で引数を渡すことが可能になります。"
   ]
  },
  {
   "cell_type": "code",
   "execution_count": 11,
   "metadata": {},
   "outputs": [
    {
     "name": "stdout",
     "output_type": "stream",
     "text": [
      "Hi!\n"
     ]
    }
   ],
   "source": [
    "my_print(suffix='!',txt='Hi')"
   ]
  },
  {
   "cell_type": "markdown",
   "metadata": {},
   "source": [
    "ただしキーワード引数は通常の引数の後ろ並びにしかかけません。\n",
    "並び方を変えてしまうと、例えば下のように、'Hi'がtxtであることがわからなくなるからです。"
   ]
  },
  {
   "cell_type": "code",
   "execution_count": 13,
   "metadata": {},
   "outputs": [
    {
     "ename": "SyntaxError",
     "evalue": "positional argument follows keyword argument (<ipython-input-13-e5eb7a114142>, line 2)",
     "output_type": "error",
     "traceback": [
      "\u001b[0;36m  File \u001b[0;32m\"<ipython-input-13-e5eb7a114142>\"\u001b[0;36m, line \u001b[0;32m2\u001b[0m\n\u001b[0;31m    my_print(suffix='!','Hi')\u001b[0m\n\u001b[0m                        ^\u001b[0m\n\u001b[0;31mSyntaxError\u001b[0m\u001b[0;31m:\u001b[0m positional argument follows keyword argument\n"
     ]
    }
   ],
   "source": [
    "#以下はNG\n",
    "my_print(suffix='!','Hi')"
   ]
  },
  {
   "cell_type": "code",
   "execution_count": null,
   "metadata": {},
   "outputs": [],
   "source": []
  }
 ],
 "metadata": {
  "kernelspec": {
   "display_name": "Python 3",
   "language": "python",
   "name": "python3"
  },
  "language_info": {
   "codemirror_mode": {
    "name": "ipython",
    "version": 3
   },
   "file_extension": ".py",
   "mimetype": "text/x-python",
   "name": "python",
   "nbconvert_exporter": "python",
   "pygments_lexer": "ipython3",
   "version": "3.8.4"
  }
 },
 "nbformat": 4,
 "nbformat_minor": 4
}
