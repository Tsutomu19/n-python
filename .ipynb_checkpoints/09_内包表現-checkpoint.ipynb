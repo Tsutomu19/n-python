{
 "cells": [
  {
   "cell_type": "markdown",
   "metadata": {},
   "source": [
    "# 内包表記  \n",
    "内包表記と呼ばれる、リストとうのコンテナデータの計算を簡潔に記述できるPython特有の機能を紹介します。特にリストに対する内包表記である、リスト内包表記が有名です。まずリスト内包表記の説明から始めます。  \n",
    "## リスト内包表記  \n",
    "リスト内包表記を用いると、あるコンテナから、別のリストを簡単に生成することができます。  \n",
    "例えば、以下のように整数の二乗の要素をもつリストを生成することを考えてみます。  "
   ]
  },
  {
   "cell_type": "code",
   "execution_count": 2,
   "metadata": {},
   "outputs": [
    {
     "name": "stdout",
     "output_type": "stream",
     "text": [
      "[0, 1, 4, 9, 16, 25, 36, 49, 64, 81]\n"
     ]
    }
   ],
   "source": [
    "squares = []\n",
    "for v in range(10):\n",
    "    squares.append(v**2)\n",
    "print(squares)"
   ]
  },
  {
   "cell_type": "code",
   "execution_count": 3,
   "metadata": {},
   "outputs": [],
   "source": [
    "#一方で、リスト内包表記を用いると以下のようになります。"
   ]
  },
  {
   "cell_type": "code",
   "execution_count": 5,
   "metadata": {},
   "outputs": [
    {
     "name": "stdout",
     "output_type": "stream",
     "text": [
      "[0, 1, 4, 9, 16, 25, 36, 49, 64, 81]\n"
     ]
    }
   ],
   "source": [
    "squares  = [v ** 2 for v in range(10)]\n",
    "print(squares)"
   ]
  },
  {
   "cell_type": "markdown",
   "metadata": {},
   "source": [
    "このように、リスト内包表記は  \n",
    "[expression for var in iterable]  \n",
    "と書きます。ここでiterableには、リストや文字列、rangeなどのコンテナデータが入ります。  \n",
    "varは普通の変数で、expressionには式を書きます。Pythonはまずforを展開し、変数varにiterableの各要素を代入しながら、expressionを計算します。  \n",
    "リスト内包表記の方が簡潔で読みやすく、複雑な表記にならない時はこちらの方が好まれます。  \n",
    "内包表記にはもう一つの機能があります。それはifによるフィルターです。ifに条件式を続けて書くことでその条件を満たす値だけをforは列挙します。形式的には次のようになります。  \n",
    "[expression for var in iterable if condition ]  \n",
    "ここでconditionは値が真偽値であるような式、つまり条件式です。普通はvarに関する式を書きます。  \n",
    "以下の例は、偶数の平方根だけからなるリストを生成します。  "
   ]
  },
  {
   "cell_type": "code",
   "execution_count": 6,
   "metadata": {},
   "outputs": [
    {
     "name": "stdout",
     "output_type": "stream",
     "text": [
      "[0, 2, 4, 6, 8]\n"
     ]
    }
   ],
   "source": [
    "even_lst = [v for v in range(10)if v % 2 == 0]\n",
    "print(even_lst)"
   ]
  },
  {
   "cell_type": "markdown",
   "metadata": {},
   "source": [
    "## 集合内包表記  \n",
    "今までみてきた[]で括って書くリスト内包表記はリストを生成しました。同様に、別のかっこでくくることで別なコンテナデータを生成することができます。まずは集合を生成する集合内包表記をみていきます。Pythonの集合は、要素を{}で括って  \n",
    "{0,1,2}　　\n",
    "のようにかけましたが、ちょうど内包表記の[]を{}に置き換えることで、集合を生成する内包表記にすることができます。例えば0以上30未満の偶数からなる集合は以下のようにかけます。  "
   ]
  },
  {
   "cell_type": "code",
   "execution_count": 7,
   "metadata": {},
   "outputs": [
    {
     "data": {
      "text/plain": [
       "{0, 2, 4, 6, 8, 10, 12, 14, 16, 18, 20, 22, 24, 26, 28}"
      ]
     },
     "execution_count": 7,
     "metadata": {},
     "output_type": "execute_result"
    }
   ],
   "source": [
    "{x for x in range(30) if x % 2 == 0}"
   ]
  },
  {
   "cell_type": "markdown",
   "metadata": {},
   "source": [
    "## ジェネレータ内包表記(ジェネレータ式)  \n",
    "今度は()でくくるジェネレーターを作成します。ジェネレータとは先頭から順に値を一度だけ取り出せるようなコンテナのことです。  "
   ]
  },
  {
   "cell_type": "code",
   "execution_count": 8,
   "metadata": {},
   "outputs": [
    {
     "name": "stdout",
     "output_type": "stream",
     "text": [
      "<generator object <genexpr> at 0x110eb2820>\n"
     ]
    }
   ],
   "source": [
    "generator = (x for x in range(100) if x % 7 == 1)\n",
    "print(generator)"
   ]
  },
  {
   "cell_type": "markdown",
   "metadata": {},
   "source": [
    "ジェネレータはprintしてみてもその中身は見えません。またリストのようにgenerator[2]などとして、いきなり先の値にアクセスすることはできません。  \n",
    "その代わり、一度だけfor文や、別の内包表記のforで、その中身をレッキョすることができます。"
   ]
  },
  {
   "cell_type": "code",
   "execution_count": 11,
   "metadata": {},
   "outputs": [
    {
     "name": "stdout",
     "output_type": "stream",
     "text": [
      "0\n",
      "13\n",
      "26\n",
      "39\n",
      "52\n",
      "65\n",
      "78\n",
      "91\n"
     ]
    }
   ],
   "source": [
    "generator = (x for x in range(100) if x % 13 == 0)\n",
    "for x in generator: #for文による列挙\n",
    "    print(x)"
   ]
  },
  {
   "cell_type": "code",
   "execution_count": 13,
   "metadata": {},
   "outputs": [
    {
     "data": {
      "text/plain": [
       "[1, 8, 15, 22, 29, 36, 43, 50, 57, 64, 71, 78, 85, 92, 99]"
      ]
     },
     "execution_count": 13,
     "metadata": {},
     "output_type": "execute_result"
    }
   ],
   "source": [
    "generator = (x for x in range(100) if x % 7 == 1)\n",
    "[x for x in generator]"
   ]
  },
  {
   "cell_type": "code",
   "execution_count": 20,
   "metadata": {},
   "outputs": [
    {
     "name": "stdout",
     "output_type": "stream",
     "text": [
      "(1, 3, 5, 7, 9)\n",
      "{0, 2, 4, 6, 8}\n",
      "189\n"
     ]
    }
   ],
   "source": [
    "#実はジェネレータを関数に渡す場合は、ジェネレータを食いくるかっこは省略できます。  \n",
    "tpl = tuple(x for x in range(10) if x % 2 == 1)#0以上9未満の奇数を順にもつタプル  \n",
    "print(tpl)\n",
    "\n",
    "st = set(x for x in range(10) if x % 2 == 0) # 0以上9未満の偶数を要素にもつ集合  \n",
    "print(st)\n",
    "\n",
    "summation = sum(x + y for x  in [1,2,3] for y in range(1,10))\n",
    "print(summation)"
   ]
  },
  {
   "cell_type": "markdown",
   "metadata": {},
   "source": [
    "## 辞書内包表現  \n",
    "辞書内包表記はキーと値のペアを書く必要があるため、内包表記のexpressionの部分が少し変わります。  \n",
    "{key:value for v in iterable}\n",
    "と書き、keyとvalueが式です。もちろん今までの内包表記と同様に、forのネストやifが使えます。"
   ]
  },
  {
   "cell_type": "code",
   "execution_count": 22,
   "metadata": {},
   "outputs": [
    {
     "name": "stdout",
     "output_type": "stream",
     "text": [
      "{'LISP': 4, 'PERL': 4, 'PYTHON': 6, 'RUBY': 4}\n"
     ]
    }
   ],
   "source": [
    "languages = [\n",
    "    \"Lisp\",\n",
    "    \"Perl\",\n",
    "    \"Python\",\n",
    "    \"Ruby\"\n",
    "]\n",
    "dictionary = {lang.upper():len(lang) for lang in languages}\n",
    "print(dictionary)"
   ]
  }
 ],
 "metadata": {
  "kernelspec": {
   "display_name": "Python 3",
   "language": "python",
   "name": "python3"
  },
  "language_info": {
   "codemirror_mode": {
    "name": "ipython",
    "version": 3
   },
   "file_extension": ".py",
   "mimetype": "text/x-python",
   "name": "python",
   "nbconvert_exporter": "python",
   "pygments_lexer": "ipython3",
   "version": "3.8.4"
  }
 },
 "nbformat": 4,
 "nbformat_minor": 4
}
