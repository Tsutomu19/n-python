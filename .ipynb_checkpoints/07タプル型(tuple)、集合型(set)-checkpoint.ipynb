{
 "cells": [
  {
   "cell_type": "markdown",
   "metadata": {},
   "source": [
    "#タプル型(tuple)、集合型(set)  \n",
    "この節では、タプル型（tuple)、集合型(コンテナデータ型)を見ていきます。  \n",
    "list,tuple,set,dictをコンテナ（コンテナデータ型)をPythonでは呼びます。  "
   ]
  },
  {
   "cell_type": "markdown",
   "metadata": {},
   "source": [
    "##タプル型  \n",
    "**タプル** はシーケンスデータ型の一つで、リストとよく似ています.  \n",
    "リストは[]で囲っていた。タプルはtuple()or()で生成。"
   ]
  },
  {
   "cell_type": "code",
   "execution_count": null,
   "metadata": {},
   "outputs": [],
   "source": []
  }
 ],
 "metadata": {
  "kernelspec": {
   "display_name": "Python 3",
   "language": "python",
   "name": "python3"
  },
  "language_info": {
   "codemirror_mode": {
    "name": "ipython",
    "version": 3
   },
   "file_extension": ".py",
   "mimetype": "text/x-python",
   "name": "python",
   "nbconvert_exporter": "python",
   "pygments_lexer": "ipython3",
   "version": "3.8.4"
  }
 },
 "nbformat": 4,
 "nbformat_minor": 4
}
