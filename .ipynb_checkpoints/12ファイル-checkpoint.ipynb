{
 "cells": [
  {
   "cell_type": "markdown",
   "metadata": {},
   "source": [
    "# ファイル  \n",
    "この回ではPythonでファイルが扱われるようになります。  \n",
    "プログラムの計算結果などをファイルに出力したり、ファイルからデータを読み込む処理というのはよく行われる処理の一つです。ここではファイルの読み書きを紹介します。  \n",
    "\n",
    "## ファイルへの書き込み  \n",
    "まず実際に書き込むデータを用意します。ここでは0から9までの数字とその二乗の値をカンマ区切りで一行まいに書くことを考えます。  "
   ]
  },
  {
   "cell_type": "code",
   "execution_count": 1,
   "metadata": {},
   "outputs": [],
   "source": [
    "numbers = [i for i in range(10)]"
   ]
  },
  {
   "cell_type": "markdown",
   "metadata": {},
   "source": [
    "ファイルへの書き込みにはopen()関数を利用します。  \n",
    "open(\"ファイル名\",\"w\"）で書き込み可能なファイルを**新規作成**します。すでにファイルがある場合は削除され新しいファイルができます。wをaにすることで新規作成ではなくファイルの後ろに追記するようにできます。  "
   ]
  },
  {
   "cell_type": "code",
   "execution_count": 2,
   "metadata": {},
   "outputs": [],
   "source": [
    "f = open(\"numbers.txt\",\"w\")"
   ]
  },
  {
   "cell_type": "markdown",
   "metadata": {},
   "source": [
    "ファイルの書き込みにはwrite(write_str)メソッドを利用します。書き込みたい文字列write_strをファイルに書き込むメソッドです。Pythonでは改行などは自動では入らないため明示的に改行を入れてあげる必要があります。  "
   ]
  },
  {
   "cell_type": "code",
   "execution_count": 4,
   "metadata": {},
   "outputs": [],
   "source": [
    "for number in numbers: \n",
    "    f.write(f\"{number},{number**2}\\n\")"
   ]
  },
  {
   "cell_type": "markdown",
   "metadata": {},
   "source": [
    "またファイルへの書き込みが全て終わった後にはclose()メソッドを呼び出しファイルを閉じましょう。  \n",
    "ファイルが閉じられているかについてはclosedで確認することができます。  "
   ]
  },
  {
   "cell_type": "code",
   "execution_count": 6,
   "metadata": {},
   "outputs": [
    {
     "name": "stdout",
     "output_type": "stream",
     "text": [
      "False\n",
      "True\n"
     ]
    }
   ],
   "source": [
    "print(f.closed)\n",
    "f.close()\n",
    "print(f.closed)"
   ]
  },
  {
   "cell_type": "markdown",
   "metadata": {},
   "source": [
    "close済みのファイルに対して書き込もうとしてもエラーが発生し書き込むことができません。ファイルへの操作が不要になった場合はcolseをしていきましょう。  "
   ]
  },
  {
   "cell_type": "code",
   "execution_count": 7,
   "metadata": {},
   "outputs": [
    {
     "ename": "ValueError",
     "evalue": "I/O operation on closed file.",
     "output_type": "error",
     "traceback": [
      "\u001b[0;31m---------------------------------------------------------------------------\u001b[0m",
      "\u001b[0;31mValueError\u001b[0m                                Traceback (most recent call last)",
      "\u001b[0;32m<ipython-input-7-4af922d3fca6>\u001b[0m in \u001b[0;36m<module>\u001b[0;34m\u001b[0m\n\u001b[0;32m----> 1\u001b[0;31m \u001b[0mf\u001b[0m\u001b[0;34m.\u001b[0m\u001b[0mwrite\u001b[0m\u001b[0;34m(\u001b[0m\u001b[0;34m\"err\"\u001b[0m\u001b[0;34m)\u001b[0m\u001b[0;34m\u001b[0m\u001b[0;34m\u001b[0m\u001b[0m\n\u001b[0m",
      "\u001b[0;31mValueError\u001b[0m: I/O operation on closed file."
     ]
    }
   ],
   "source": [
    "f.write(\"err\")"
   ]
  },
  {
   "cell_type": "markdown",
   "metadata": {},
   "source": [
    "実際にはclose()の呼び出しは面倒でよく忘れてしまします。そこで自動でcloseしてくれるようにPython\n",
    "ではwith文を使ったファイルのopenが推奨されます。  "
   ]
  },
  {
   "cell_type": "code",
   "execution_count": 9,
   "metadata": {},
   "outputs": [],
   "source": [
    "with open(\"numbers.txt\",\"w\") as f:\n",
    "    for number in numbers:\n",
    "        f.write(f\"{number},{number**2}\\n\")"
   ]
  },
  {
   "cell_type": "code",
   "execution_count": 11,
   "metadata": {},
   "outputs": [],
   "source": [
    "#上記のコードは下記のコードとほぼ等価です。\n",
    "f = open(\"numbers.txt\",\"w\")\n",
    "for number in numbers:\n",
    "            f.write(f\"{number},{number**2}\\n\")\n",
    "f.close()"
   ]
  },
  {
   "cell_type": "markdown",
   "metadata": {},
   "source": [
    "実際には少し違うのですがここでは詳細については述べません。ここではwith文を使ってファイルを開いたときは自動ではclose()が呼び出させると覚えておいてください。with文の詳細については公式ドキュメントのwith文を確認。  \n",
    "with文を使った場合はファイルはwith文のスコープ範囲内ではファイルが開いており、with文から抜ける時に自動的にファイルをcloseするようになります。  "
   ]
  },
  {
   "cell_type": "code",
   "execution_count": 12,
   "metadata": {},
   "outputs": [
    {
     "name": "stdout",
     "output_type": "stream",
     "text": [
      "withの内 False\n",
      "withの外 True\n"
     ]
    }
   ],
   "source": [
    "with open(\"test.txt\",\"w\") as f:\n",
    "    #withのうちではファイルが開いている  \n",
    "    print(\"withの内\",f.closed)\n",
    " #withの外側ファイルが閉じている\n",
    "print(\"withの外\",f.closed)"
   ]
  },
  {
   "cell_type": "markdown",
   "metadata": {},
   "source": [
    "自動でファイルを閉じてくれているのでPyothonではフィルをopenする時にはwith文と一緒に使うようにしましょう。  \n",
    "ここまでくれば**numbers.txt**という下記の中身のファイルが出来上がっているはずです。"
   ]
  },
  {
   "cell_type": "markdown",
   "metadata": {},
   "source": [
    "```python\n",
    "0,0\n",
    "1,1\n",
    "2,4\n",
    "3,9\n",
    "4,16\n",
    "5,25\n",
    "6,36\n",
    "7,49\n",
    "8,64\n",
    "9,81\n",
    "\n",
    "```"
   ]
  },
  {
   "cell_type": "markdown",
   "metadata": {},
   "source": [
    "このファイルの読み込みを試して見ましょう。"
   ]
  },
  {
   "cell_type": "markdown",
   "metadata": {},
   "source": [
    "## ファイルへの読み込み  \n",
    "ここでは先ほど作成したnumbers.txtを使って**一つ目の数字+二つ目の数字**という計算をしてみましょう。ファイルへの読み込みには書き込みと同じくopen()関数を利用します。  \n",
    "open(**\"ファイル名\",\"r\"**)でファイルを読み込みます。先ほどはファイル目の後ろの引数がwでしたが読み込み時はrになります。読み込み時にはrを省略する(open(\"***ファイル名***\"))ことも可能です。  \n",
    "ファイルの中身の読み込み時には一行毎に読み込むreadline()メソッドか全行読み込みリストで返してくれるreadlines()メソッドを使うのが簡単です。"
   ]
  },
  {
   "cell_type": "code",
   "execution_count": 17,
   "metadata": {},
   "outputs": [
    {
     "name": "stdout",
     "output_type": "stream",
     "text": [
      "# readlines\n",
      "f.readlines() = ['0,0\\n', '1,1\\n', '2,4\\n', '3,9\\n', '4,16\\n', '5,25\\n', '6,36\\n', '7,49\\n', '8,64\\n', '9,81\\n']\n",
      "0,0\n",
      "1,1\n",
      "2,4\n",
      "3,9\n",
      "4,16\n",
      "5,25\n",
      "6,36\n",
      "7,49\n",
      "8,64\n",
      "9,81\n"
     ]
    }
   ],
   "source": [
    "print(\"# readlines\")\n",
    "with open(\"numbers.txt\",\"r\")as f:\n",
    "    #全行読み込み\n",
    "    lines = f.readlines()\n",
    "print(\"f.readlines() =\",lines)\n",
    "for line in lines:\n",
    "    print(line,end=\"\")"
   ]
  },
  {
   "cell_type": "markdown",
   "metadata": {},
   "source": [
    "上記のlineまたはreadlines()の結果の要素の例でわかる通り、一行に読み込んだ場合には最後に改行文字が含まれていることがわかると思います。この改行文字の存在を忘れてしますとプログラムが動かなくなることにもなりますので覚えておいてください。  \n",
    "\n",
    "実際にこれらの関数が使われることはあまりなく、多くの場合、より便利かつ効率的な方法で一行毎に読み込みを行います。Pythonではfor文を使って一行ごとに取り出すことができます。  \n",
    "\n",
    "またこの場合でも同様に読み込んだ各行の末尾には改行があります。今後扱う上で邪魔になりますのでこの改行を削除してみましょう。末尾の改行文字を削除する方法はrstrip()メソッドを使います。  "
   ]
  },
  {
   "cell_type": "code",
   "execution_count": 18,
   "metadata": {},
   "outputs": [
    {
     "name": "stdout",
     "output_type": "stream",
     "text": [
      "0,0\n",
      "1,1\n",
      "2,4\n",
      "3,9\n",
      "4,16\n",
      "5,25\n",
      "6,36\n",
      "7,49\n",
      "8,64\n",
      "9,81\n"
     ]
    }
   ],
   "source": [
    "with open(\"numbers.txt\",\"r\") as f:\n",
    "    for line in f:\n",
    "        line = line.rstrip()\n",
    "        print(line)"
   ]
  },
  {
   "cell_type": "markdown",
   "metadata": {},
   "source": [
    "今回は,で数字が区切られているのでsplit()メソッドを使って一行を分割します。  "
   ]
  },
  {
   "cell_type": "code",
   "execution_count": 22,
   "metadata": {},
   "outputs": [
    {
     "name": "stdout",
     "output_type": "stream",
     "text": [
      "splited= ['9', '81']\n"
     ]
    }
   ],
   "source": [
    "line = \"9,81\"\n",
    "splited = line.split(\",\")\n",
    "print(\"splited=\",splited)"
   ]
  },
  {
   "cell_type": "markdown",
   "metadata": {},
   "source": [
    "このままだと,で分割した後のリストは文字列のリストになっているので、数値演算できるようにするために文字列を数値に変換必要があります。"
   ]
  },
  {
   "cell_type": "code",
   "execution_count": 24,
   "metadata": {},
   "outputs": [
    {
     "name": "stdout",
     "output_type": "stream",
     "text": [
      "splited[0]+splited[1]= 981\n"
     ]
    }
   ],
   "source": [
    "#文字列なので足し算はできない。\n",
    "print(\"splited[0]+splited[1]=\",splited[0]+splited[1])"
   ]
  },
  {
   "cell_type": "code",
   "execution_count": 29,
   "metadata": {},
   "outputs": [
    {
     "name": "stdout",
     "output_type": "stream",
     "text": [
      "9+81= 9+81\n"
     ]
    }
   ],
   "source": [
    "#数値に変換して足し算する\n",
    "number = [int(i)for i in splited]\n",
    "print(f\"{number[0]}+{number[1]}= {number[0]}+{number[1]}\")"
   ]
  },
  {
   "cell_type": "markdown",
   "metadata": {},
   "source": [
    "これまでの処理をまとめると以下のようなコードになります。"
   ]
  },
  {
   "cell_type": "code",
   "execution_count": 30,
   "metadata": {},
   "outputs": [
    {
     "name": "stdout",
     "output_type": "stream",
     "text": [
      "0+0= 0+0\n",
      "1+1= 1+1\n",
      "2+4= 2+4\n",
      "3+9= 3+9\n",
      "4+16= 4+16\n",
      "5+25= 5+25\n",
      "6+36= 6+36\n",
      "7+49= 7+49\n",
      "8+64= 8+64\n",
      "9+81= 9+81\n"
     ]
    }
   ],
   "source": [
    "with open(\"numbers.txt\",\"r\")as f:\n",
    "    for line in f:\n",
    "        line = line.rstrip()\n",
    "        splited = line.split(\",\")\n",
    "        number = [int(i) for i in splited]\n",
    "        print(f\"{number[0]}+{number[1]}= {number[0]}+{number[1]}\")"
   ]
  },
  {
   "cell_type": "code",
   "execution_count": null,
   "metadata": {},
   "outputs": [],
   "source": []
  }
 ],
 "metadata": {
  "kernelspec": {
   "display_name": "Python 3",
   "language": "python",
   "name": "python3"
  },
  "language_info": {
   "codemirror_mode": {
    "name": "ipython",
    "version": 3
   },
   "file_extension": ".py",
   "mimetype": "text/x-python",
   "name": "python",
   "nbconvert_exporter": "python",
   "pygments_lexer": "ipython3",
   "version": "3.8.4"
  }
 },
 "nbformat": 4,
 "nbformat_minor": 4
}
