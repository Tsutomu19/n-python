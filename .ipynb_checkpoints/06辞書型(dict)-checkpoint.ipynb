{
 "cells": [
  {
   "cell_type": "markdown",
   "metadata": {},
   "source": [
    "#辞書型(dict)  \n",
    "データ構造のこと。\n",
    "前節のlistと、後のせつで紹介するtuple,set,dictをコンテナ(コンテナデータ型)とpythonでは呼びます。  \n",
    "辞書型\n",
    "有用なコンテナ型である辞書(dictionary)を見ます。これはhashやmap、連想配列と呼ばれます。  \n",
    "辞書はkeyvalueのペアの集合になり、キーは一つの辞書内で一意でなければならない。  \n",
    "辞書を作るときはdict()関数または波括弧を利用。集合型と違い、{key:value,...}の形式になります。"
   ]
  },
  {
   "cell_type": "code",
   "execution_count": 2,
   "metadata": {},
   "outputs": [
    {
     "name": "stdout",
     "output_type": "stream",
     "text": [
      "{'Taro': 1234, 'Jiro': 5678}\n"
     ]
    }
   ],
   "source": [
    "contacts = {'Taro':1234,'Jiro':5678}\n",
    "print(contacts)"
   ]
  },
  {
   "cell_type": "code",
   "execution_count": 4,
   "metadata": {},
   "outputs": [
    {
     "name": "stdout",
     "output_type": "stream",
     "text": [
      "5678\n"
     ]
    }
   ],
   "source": [
    "print(contacts['Jiro'])"
   ]
  },
  {
   "cell_type": "markdown",
   "metadata": {},
   "source": [
    "辞書の要素を取り出すときはキーを使います。   \n",
    "辞書に要素を追加するときは角括弧[]を利用する。  "
   ]
  },
  {
   "cell_type": "code",
   "execution_count": 6,
   "metadata": {},
   "outputs": [
    {
     "name": "stdout",
     "output_type": "stream",
     "text": [
      "{'Taro': 1234, 'Jiro': 5678}\n",
      "{'Taro': 1234, 'Jiro': 5678, 'Saburo': 9102}\n"
     ]
    }
   ],
   "source": [
    "contacts = {'Taro':1234,'Jiro':5678}\n",
    "print(contacts)\n",
    "\n",
    "contacts['Saburo'] = 9102\n",
    "print(contacts)"
   ]
  },
  {
   "cell_type": "code",
   "execution_count": 8,
   "metadata": {},
   "outputs": [
    {
     "name": "stdout",
     "output_type": "stream",
     "text": [
      "['Taro', 'Jiro', 'Saburo']\n"
     ]
    }
   ],
   "source": [
    "keys = list(contacts.keys())#list()を使うことに注意\n",
    "print(keys)"
   ]
  },
  {
   "cell_type": "markdown",
   "metadata": {},
   "source": [
    "keys()プロパティを利用して辞書のkey(キー)を取り出すことができます。  \n",
    "values()プロパティを利用して辞書の(値)を取り出すことができます。  \n",
    "items()プロパティを利用して、キーと値の組を取り出すことができます。\n",
    "forで利用するときはlist()関数は不要となります。"
   ]
  },
  {
   "cell_type": "code",
   "execution_count": 10,
   "metadata": {},
   "outputs": [
    {
     "name": "stdout",
     "output_type": "stream",
     "text": [
      "[1234, 5678, 9102]\n"
     ]
    }
   ],
   "source": [
    "values = list(contacts.values())\n",
    "print(values)"
   ]
  },
  {
   "cell_type": "code",
   "execution_count": 13,
   "metadata": {},
   "outputs": [
    {
     "name": "stdout",
     "output_type": "stream",
     "text": [
      "[('Taro', 1234), ('Jiro', 5678), ('Saburo', 9102)]\n"
     ]
    }
   ],
   "source": [
    "items = list(contacts.items())\n",
    "print(items)"
   ]
  },
  {
   "cell_type": "code",
   "execution_count": 18,
   "metadata": {},
   "outputs": [
    {
     "name": "stdout",
     "output_type": "stream",
     "text": [
      "Taro 1234\n",
      "Jiro 5678\n",
      "Saburo 9102\n"
     ]
    }
   ],
   "source": [
    "for k, v  in contacts.items():\n",
    "  print(k,v)"
   ]
  },
  {
   "cell_type": "code",
   "execution_count": 20,
   "metadata": {},
   "outputs": [
    {
     "data": {
      "text/plain": [
       "True"
      ]
     },
     "execution_count": 20,
     "metadata": {},
     "output_type": "execute_result"
    }
   ],
   "source": [
    "'Taro' in contacts"
   ]
  },
  {
   "cell_type": "code",
   "execution_count": 21,
   "metadata": {},
   "outputs": [
    {
     "data": {
      "text/plain": [
       "False"
      ]
     },
     "execution_count": 21,
     "metadata": {},
     "output_type": "execute_result"
    }
   ],
   "source": [
    "'Dwango' in contacts"
   ]
  }
 ],
 "metadata": {
  "kernelspec": {
   "display_name": "Python 3",
   "language": "python",
   "name": "python3"
  },
  "language_info": {
   "codemirror_mode": {
    "name": "ipython",
    "version": 3
   },
   "file_extension": ".py",
   "mimetype": "text/x-python",
   "name": "python",
   "nbconvert_exporter": "python",
   "pygments_lexer": "ipython3",
   "version": "3.8.4"
  }
 },
 "nbformat": 4,
 "nbformat_minor": 4
}
