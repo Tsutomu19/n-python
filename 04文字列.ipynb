{
 "cells": [
  {
   "cell_type": "code",
   "execution_count": 1,
   "metadata": {},
   "outputs": [
    {
     "name": "stdout",
     "output_type": "stream",
     "text": [
      "some eggs\n",
      "some eggs\n"
     ]
    }
   ],
   "source": [
    "print('some eggs')\n",
    "print(\"some eggs\")"
   ]
  },
  {
   "cell_type": "code",
   "execution_count": 2,
   "metadata": {},
   "outputs": [
    {
     "name": "stdout",
     "output_type": "stream",
     "text": [
      "True\n"
     ]
    }
   ],
   "source": [
    "print('some eggs' == \"some eggs\")"
   ]
  },
  {
   "cell_type": "markdown",
   "metadata": {},
   "source": [
    "\"\"の中では、'は文字、'...'の中では\"は文字として扱われます。  \n",
    "'...'の中で',または\"...\"の中で\"を使う場合には各記号の前に\\を入力します。  "
   ]
  },
  {
   "cell_type": "code",
   "execution_count": 3,
   "metadata": {},
   "outputs": [
    {
     "name": "stdout",
     "output_type": "stream",
     "text": [
      "I don't know him\n",
      "\"Python\"\n",
      "I dont't know him\n",
      "\"Python\"\n"
     ]
    }
   ],
   "source": [
    "print(\"I don't know him\")\n",
    "print('\"Python\"')\n",
    "\n",
    "print('I dont\\'t know him')\n",
    "print(\"\\\"Python\\\"\")"
   ]
  },
  {
   "cell_type": "code",
   "execution_count": 4,
   "metadata": {},
   "outputs": [
    {
     "name": "stdout",
     "output_type": "stream",
     "text": [
      "一行目\n",
      "二行目\n"
     ]
    }
   ],
   "source": [
    "print(\"一行目\\n二行目\")"
   ]
  },
  {
   "cell_type": "markdown",
   "metadata": {},
   "source": [
    "\\nは改行文字を表します。\\nは一文字として扱われます。  \n",
    "\\nを改行文字としてではなく、バックスラッシュ+nをいう文字として使いたい場合は\\\\nと入力するか、引用符の前にrをつけます。"
   ]
  },
  {
   "cell_type": "code",
   "execution_count": 5,
   "metadata": {},
   "outputs": [
    {
     "name": "stdout",
     "output_type": "stream",
     "text": [
      "一行目\\n二行目\n",
      "一行目\\n二行目\n"
     ]
    }
   ],
   "source": [
    "print(\"一行目\\\\n二行目\")\n",
    "print(r\"一行目\\n二行目\")"
   ]
  },
  {
   "cell_type": "markdown",
   "metadata": {},
   "source": [
    "複数行の文字列を作りたいときは、三連引用符(\"\"\",,,\"\"\"または''',,,,'''）を利用。改行は自動で含まれますが、行末に\\をつけることで改行を無視することができます。"
   ]
  },
  {
   "cell_type": "code",
   "execution_count": 6,
   "metadata": {},
   "outputs": [
    {
     "name": "stdout",
     "output_type": "stream",
     "text": [
      "改行あり\n",
      "改行なし\n"
     ]
    }
   ],
   "source": [
    "print(\"\"\"改行あり\n",
    "改行\\\n",
    "なし\"\"\")"
   ]
  },
  {
   "cell_type": "code",
   "execution_count": 7,
   "metadata": {},
   "outputs": [
    {
     "name": "stdout",
     "output_type": "stream",
     "text": [
      "a lot ofeggs\n"
     ]
    }
   ],
   "source": [
    "print(\"a lot of\" + \"eggs\")"
   ]
  },
  {
   "cell_type": "code",
   "execution_count": 8,
   "metadata": {},
   "outputs": [
    {
     "name": "stdout",
     "output_type": "stream",
     "text": [
      "PythonPythonPython\n"
     ]
    }
   ],
   "source": [
    "print(\"Python\" *3)"
   ]
  },
  {
   "cell_type": "code",
   "execution_count": 10,
   "metadata": {},
   "outputs": [
    {
     "name": "stdout",
     "output_type": "stream",
     "text": [
      "太郎ドワンゴ\n"
     ]
    }
   ],
   "source": [
    "first_name = '太郎'\n",
    "last_name = 'ドワンゴ'\n",
    "print(first_name + last_name)"
   ]
  },
  {
   "cell_type": "markdown",
   "metadata": {},
   "source": [
    "#インデックス,スライス  \n",
    "文字列は添字表記することができます。最初の文字は0番目"
   ]
  },
  {
   "cell_type": "code",
   "execution_count": 14,
   "metadata": {},
   "outputs": [
    {
     "name": "stdout",
     "output_type": "stream",
     "text": [
      "Python\n"
     ]
    }
   ],
   "source": [
    "word = 'Python'\n",
    "print(word)"
   ]
  },
  {
   "cell_type": "code",
   "execution_count": 17,
   "metadata": {
    "scrolled": true
   },
   "outputs": [
    {
     "name": "stdout",
     "output_type": "stream",
     "text": [
      "P\n",
      "o\n",
      "n\n",
      "o\n"
     ]
    }
   ],
   "source": [
    "print(word[0])\n",
    "print(word[4])\n",
    "print(word[-1])\n",
    "print(word[-2])"
   ]
  },
  {
   "cell_type": "markdown",
   "metadata": {},
   "source": [
    "文字列のi番目からj番目までというように一部を切り出して取得することもできます。これをスライスと呼びます。  \n",
    "終端の添字は一つ大きいことに注意する。  \n",
    "つまり開始番目の文字はふくまれ、終了番目は文字に含まれない。  "
   ]
  },
  {
   "cell_type": "code",
   "execution_count": 23,
   "metadata": {},
   "outputs": [
    {
     "name": "stdout",
     "output_type": "stream",
     "text": [
      "Py\n",
      "Pyt\n",
      "hon\n",
      "Python\n"
     ]
    }
   ],
   "source": [
    "print(word[0:2])\n",
    "print(word[:3])\n",
    "print(word[3:])\n",
    "print(word[:3]+word[3:])"
   ]
  },
  {
   "cell_type": "code",
   "execution_count": 24,
   "metadata": {},
   "outputs": [
    {
     "ename": "IndexError",
     "evalue": "string index out of range",
     "output_type": "error",
     "traceback": [
      "\u001b[0;31m---------------------------------------------------------------------------\u001b[0m",
      "\u001b[0;31mIndexError\u001b[0m                                Traceback (most recent call last)",
      "\u001b[0;32m<ipython-input-24-286cd311df5b>\u001b[0m in \u001b[0;36m<module>\u001b[0;34m\u001b[0m\n\u001b[0;32m----> 1\u001b[0;31m \u001b[0mprint\u001b[0m\u001b[0;34m(\u001b[0m\u001b[0mword\u001b[0m\u001b[0;34m[\u001b[0m\u001b[0;36m43\u001b[0m\u001b[0;34m]\u001b[0m\u001b[0;34m)\u001b[0m\u001b[0;34m\u001b[0m\u001b[0;34m\u001b[0m\u001b[0m\n\u001b[0m",
      "\u001b[0;31mIndexError\u001b[0m: string index out of range"
     ]
    }
   ],
   "source": [
    "print(word[43])"
   ]
  },
  {
   "cell_type": "code",
   "execution_count": 25,
   "metadata": {},
   "outputs": [
    {
     "name": "stdout",
     "output_type": "stream",
     "text": [
      "length: 6\n"
     ]
    }
   ],
   "source": [
    "print(\"length:\",len(word))#文字列の長さ取得にはlen()関数を使う。"
   ]
  },
  {
   "cell_type": "code",
   "execution_count": 28,
   "metadata": {},
   "outputs": [
    {
     "name": "stdout",
     "output_type": "stream",
     "text": [
      "on\n"
     ]
    }
   ],
   "source": [
    "print(word[4:42])"
   ]
  },
  {
   "cell_type": "code",
   "execution_count": 29,
   "metadata": {},
   "outputs": [
    {
     "ename": "TypeError",
     "evalue": "'str' object does not support item assignment",
     "output_type": "error",
     "traceback": [
      "\u001b[0;31m---------------------------------------------------------------------------\u001b[0m",
      "\u001b[0;31mTypeError\u001b[0m                                 Traceback (most recent call last)",
      "\u001b[0;32m<ipython-input-29-cdfa8456a20d>\u001b[0m in \u001b[0;36m<module>\u001b[0;34m\u001b[0m\n\u001b[0;32m----> 1\u001b[0;31m \u001b[0mword\u001b[0m\u001b[0;34m[\u001b[0m\u001b[0;36m0\u001b[0m\u001b[0;34m]\u001b[0m \u001b[0;34m=\u001b[0m \u001b[0;34m'J'\u001b[0m\u001b[0;31m#後から変更できない。\u001b[0m\u001b[0;34m\u001b[0m\u001b[0;34m\u001b[0m\u001b[0m\n\u001b[0m",
      "\u001b[0;31mTypeError\u001b[0m: 'str' object does not support item assignment"
     ]
    }
   ],
   "source": [
    "word[0] = 'J'#後から変更できない。"
   ]
  },
  {
   "cell_type": "code",
   "execution_count": 30,
   "metadata": {},
   "outputs": [
    {
     "name": "stdout",
     "output_type": "stream",
     "text": [
      "Jython\n"
     ]
    }
   ],
   "source": [
    "word = 'J'+word[1:]#一文字目をJにして、以降はword[1:]を使用。\n",
    "print(word)"
   ]
  },
  {
   "cell_type": "markdown",
   "metadata": {},
   "source": [
    "#Format  \n",
    "フォーマット済み文字列リテラル(f-string)を利用。接頭辞としてf or Fをつける。  "
   ]
  },
  {
   "cell_type": "code",
   "execution_count": 32,
   "metadata": {},
   "outputs": [
    {
     "name": "stdout",
     "output_type": "stream",
     "text": [
      "Hello Python\n",
      "length:6\n",
      "slice:Py\n"
     ]
    }
   ],
   "source": [
    "word = \"Python\"\n",
    "print(f\"Hello {word}\")\n",
    "\n",
    "print(f\"length:{len(word)}\")\n",
    "print(f\"slice:{word[:2]}\")"
   ]
  },
  {
   "cell_type": "markdown",
   "metadata": {},
   "source": [
    "数値であれば小数点以下の表示する桁数、桁を揃えるために0や空白で埋める、配置を中央に設けるなど様々なフォーマットの文字列を作成することができる。"
   ]
  },
  {
   "cell_type": "code",
   "execution_count": null,
   "metadata": {},
   "outputs": [],
   "source": [
    "pi = 3.14159265359\n",
    "#そのまま表示\n",
    "print(f\"πの値は{pi}です\")\n",
    "#小数点以下二桁まで\n",
    "print(f\"πの値は{pi:.2f}です\")"
   ]
  }
 ],
 "metadata": {
  "kernelspec": {
   "display_name": "Python 3",
   "language": "python",
   "name": "python3"
  },
  "language_info": {
   "codemirror_mode": {
    "name": "ipython",
    "version": 3
   },
   "file_extension": ".py",
   "mimetype": "text/x-python",
   "name": "python",
   "nbconvert_exporter": "python",
   "pygments_lexer": "ipython3",
   "version": "3.8.4"
  }
 },
 "nbformat": 4,
 "nbformat_minor": 4
}
